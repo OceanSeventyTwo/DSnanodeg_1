{
 "cells": [
  {
   "cell_type": "markdown",
   "metadata": {},
   "source": [
    "# Developing an AI application\n",
    "\n",
    "Going forward, AI algorithms will be incorporated into more and more everyday applications. For example, you might want to include an image classifier in a smart phone app. To do this, you'd use a deep learning model trained on hundreds of thousands of images as part of the overall application architecture. A large part of software development in the future will be using these types of models as common parts of applications. \n",
    "\n",
    "In this project, you'll train an image classifier to recognize different species of flowers. You can imagine using something like this in a phone app that tells you the name of the flower your camera is looking at. In practice you'd train this classifier, then export it for use in your application. We'll be using [this dataset](http://www.robots.ox.ac.uk/~vgg/data/flowers/102/index.html) of 102 flower categories, you can see a few examples below. \n",
    "\n",
    "<img src='assets/Flowers.png' width=500px>\n",
    "\n",
    "The project is broken down into multiple steps:\n",
    "\n",
    "* Load and preprocess the image dataset\n",
    "* Train the image classifier on your dataset\n",
    "* Use the trained classifier to predict image content\n",
    "\n",
    "We'll lead you through each part which you'll implement in Python.\n",
    "\n",
    "When you've completed this project, you'll have an application that can be trained on any set of labeled images. Here your network will be learning about flowers and end up as a command line application. But, what you do with your new skills depends on your imagination and effort in building a dataset. For example, imagine an app where you take a picture of a car, it tells you what the make and model is, then looks up information about it. Go build your own dataset and make something new.\n",
    "\n",
    "First up is importing the packages you'll need. It's good practice to keep all the imports at the beginning of your code. As you work through this notebook and find you need to import a package, make sure to add the import up here.\n",
    "\n",
    "Please make sure if you are running this notebook in the workspace that you have chosen GPU rather than CPU mode."
   ]
  },
  {
   "cell_type": "markdown",
   "metadata": {},
   "source": [
    "#### LIBRARY LOADER"
   ]
  },
  {
   "cell_type": "code",
   "execution_count": 1,
   "metadata": {},
   "outputs": [],
   "source": [
    "import torch\n",
    "import torchvision\n",
    "import pandas as pd\n",
    "import numpy as np\n",
    "\n",
    "import torch.nn.functional as F\n",
    "from torch import nn\n",
    "from torch import optim\n",
    "from torchvision import datasets, transforms\n",
    "import torchvision.models as models\n",
    "\n",
    "%matplotlib inline\n",
    "%config InlineBackend.figure_format = 'retina'\n",
    "\n",
    "import matplotlib.pyplot as plt\n",
    "\n",
    "device = torch.device(\"cuda:0\" if torch.cuda.is_available() else \"cpu\")"
   ]
  },
  {
   "cell_type": "markdown",
   "metadata": {},
   "source": [
    "#### FUNCTIONS"
   ]
  },
  {
   "cell_type": "code",
   "execution_count": 2,
   "metadata": {},
   "outputs": [],
   "source": [
    "# TODO: Define your transforms for the training, validation, and testing sets\n",
    "def load_train_data(train_dir, bs=64, Prob_flip=0, Rot_deg=0):\n",
    "    train_transforms = transforms.Compose([transforms.CenterCrop(255),\n",
    "                                     transforms.Resize(224),\n",
    "                                     transforms.RandomHorizontalFlip(Prob_flip),\n",
    "                                     transforms.RandomRotation(Rot_deg),\n",
    "                                     transforms.ToTensor(),\n",
    "                                     transforms.Normalize([0.485, 0.456, 0.406],[0.229, 0.224, 0.225])])\n",
    "    \n",
    "    train_data = datasets.ImageFolder(train_dir, transform=train_transforms)\n",
    "    trainloader = torch.utils.data.DataLoader(train_data, batch_size=bs, shuffle=True)\n",
    "    \n",
    "    return trainloader"
   ]
  },
  {
   "cell_type": "code",
   "execution_count": 3,
   "metadata": {},
   "outputs": [],
   "source": [
    "def load_vt_data(train_dir,val_dir,bs=64):\n",
    "    vt_transforms = transforms.Compose([transforms.CenterCrop(255),\n",
    "                                    transforms.Resize(224),\n",
    "                                    transforms.ToTensor(),\n",
    "                                    transforms.Normalize([0.485, 0.456, 0.406],[0.229, 0.224, 0.225])])\n",
    "    \n",
    "    test_data = datasets.ImageFolder(test_dir , transform=vt_transforms)\n",
    "    val_data = datasets.ImageFolder(val_dir , transform=vt_transforms)\n",
    "    \n",
    "    testloader = torch.utils.data.DataLoader(test_data, batch_size=bs)\n",
    "    valloader = torch.utils.data.DataLoader(val_data, batch_size=bs)\n",
    "    \n",
    "    return testloader, valloader"
   ]
  },
  {
   "cell_type": "code",
   "execution_count": 4,
   "metadata": {},
   "outputs": [],
   "source": [
    "def validation(model, vtloader, crit, dev):\n",
    "    vt_loss = 0\n",
    "    accuracy = 0\n",
    "    for jj, (images, labels) in enumerate(vtloader):\n",
    "        \n",
    "        images = images.to(device)\n",
    "        labels = labels.to(device)\n",
    "\n",
    "        output = model.forward(images)\n",
    "        vt_loss += crit(output, labels).item()\n",
    "\n",
    "        ps = torch.exp(output)\n",
    "        equality = (labels.data == ps.max(dim=1)[1])\n",
    "        accuracy += equality.type(torch.FloatTensor).mean()\n",
    "    \n",
    "    return vt_loss, accuracy"
   ]
  },
  {
   "cell_type": "code",
   "execution_count": 5,
   "metadata": {},
   "outputs": [],
   "source": [
    "def train_mod(model, trn_ldr, v_ldr, dev, opt, crit, epochs=1, print_every=10):\n",
    "    steps = 0\n",
    "    for e in range(epochs):\n",
    "        model.to(dev)\n",
    "        model.train()\n",
    "        running_loss = 0\n",
    "    \n",
    "        for ii, (images, labels) in enumerate(trn_ldr):\n",
    "            images = images.to(dev)\n",
    "            labels = labels.to(dev)\n",
    "        \n",
    "            steps += 1\n",
    "                       \n",
    "            opt.zero_grad()\n",
    "        \n",
    "            output = model.forward(images)\n",
    "            loss = crit(output, labels)\n",
    "            loss.backward()\n",
    "            opt.step()\n",
    "            running_loss += loss.item()\n",
    "              \n",
    "        \n",
    "            if steps % print_every == 0:\n",
    "                # Make sure network is in eval mode for inference\n",
    "                model.eval()\n",
    "\n",
    "                # Turn off gradients for validation, saves memory and computations\n",
    "                with torch.no_grad():\n",
    "                    val_loss, accuracy = validation(model, v_ldr, crit, dev)\n",
    "\n",
    "                print(\"Epoch: {}/{}.. \".format(e+1, epochs),\n",
    "                      \"Training Loss: {:.3f}.. \".format(running_loss/print_every),\n",
    "                      \"Cross_val Loss: {:.3f}.. \".format(val_loss/len(v_ldr)),\n",
    "                      \"Val Accuracy: {:.3f}\".format(accuracy/len(v_ldr)))\n",
    "\n",
    "                running_loss = 0\n",
    "\n",
    "                # Make sure training is back on\n",
    "                model.train()\n",
    "    \n",
    "    return "
   ]
  },
  {
   "cell_type": "code",
   "execution_count": 6,
   "metadata": {},
   "outputs": [],
   "source": [
    "def add_Resnetclass(model,output,h_layers,p_drop=0,smax_dim=1):\n",
    "        \n",
    "    from collections import OrderedDict\n",
    "    \n",
    "    hidden_layer = []\n",
    "    hidden_layer.extend(h_layers)\n",
    "    hidden_layer.insert(0,model.fc.in_features)\n",
    "    hidden_layer.append(output)\n",
    "    print(hidden_layer)\n",
    "    \n",
    "    io_pairs = zip(hidden_layer[:-1],hidden_layer[1:])\n",
    "    print(io_pairs)\n",
    "    l_dict = OrderedDict()\n",
    "    \n",
    "    l = 0\n",
    "    for a,b in io_pairs:\n",
    "        l_dict['fc'+str(l)] = nn.Linear(a,b)\n",
    "        l_dict['relu'+str(l)] = nn.ReLU()\n",
    "        if b!=output: l_dict['drop'+str(l)] = nn.Dropout(p_drop)\n",
    "        l += 1\n",
    "        \n",
    "    l_dict['softmax'] = nn.LogSoftmax(dim=smax_dim)\n",
    "    \n",
    "    for param in model.parameters():\n",
    "        param.requires_grad = False\n",
    "\n",
    "    classifier = nn.Sequential(l_dict)\n",
    "\n",
    "    model.fc = classifier\n",
    "    \n",
    "    for param in model.fc.parameters():\n",
    "        param.requires_grad = True\n",
    "    \n",
    "    return model"
   ]
  },
  {
   "cell_type": "code",
   "execution_count": 7,
   "metadata": {},
   "outputs": [],
   "source": [
    "def save_res18_mod(filename, model,n_classes,h_layers,p_drop):\n",
    "    checkpoint = {'output_size': n_classes,\n",
    "                  'hidden_layers': h_layers,\n",
    "                  'p_drop' : p_drop,\n",
    "                  'state_dict': model.state_dict()}\n",
    "    torch.save(checkpoint, filename)\n",
    "    print('Checkpoint saved: ', filename)\n",
    "    \n",
    "    return "
   ]
  },
  {
   "cell_type": "code",
   "execution_count": 8,
   "metadata": {},
   "outputs": [],
   "source": [
    "def load_res18_mod(filename):\n",
    "    cp = torch.load(filename)  # loadcheck point\n",
    "    \n",
    "    Res18 = models.resnet18(pretrained=True)\n",
    "    add_Resnetclass(Res18,cp['output_size'],cp['hidden_layers'],p_drop=cp['p_drop'])\n",
    "    \n",
    "    Res18.load_state_dict(cp['state_dict'])\n",
    "        \n",
    "    return Res18"
   ]
  },
  {
   "cell_type": "markdown",
   "metadata": {},
   "source": [
    "## Load the data\n",
    "\n",
    "Here you'll use `torchvision` to load the data ([documentation](http://pytorch.org/docs/0.3.0/torchvision/index.html)). The data should be included alongside this notebook, otherwise you can [download it here](https://s3.amazonaws.com/content.udacity-data.com/nd089/flower_data.tar.gz). The dataset is split into three parts, training, validation, and testing. For the training, you'll want to apply transformations such as random scaling, cropping, and flipping. This will help the network generalize leading to better performance. You'll also need to make sure the input data is resized to 224x224 pixels as required by the pre-trained networks.\n",
    "\n",
    "The validation and testing sets are used to measure the model's performance on data it hasn't seen yet. For this you don't want any scaling or rotation transformations, but you'll need to resize then crop the images to the appropriate size.\n",
    "\n",
    "The pre-trained networks you'll use were trained on the ImageNet dataset where each color channel was normalized separately. For all three sets you'll need to normalize the means and standard deviations of the images to what the network expects. For the means, it's `[0.485, 0.456, 0.406]` and for the standard deviations `[0.229, 0.224, 0.225]`, calculated from the ImageNet images.  These values will shift each color channel to be centered at 0 and range from -1 to 1.\n",
    " "
   ]
  },
  {
   "cell_type": "code",
   "execution_count": 9,
   "metadata": {},
   "outputs": [],
   "source": [
    "bz = 64  # batch_size\n",
    "data_dir = 'flowers'\n",
    "train_dir = data_dir + '/train'\n",
    "val_dir = data_dir + '/valid'\n",
    "test_dir = data_dir + '/test'\n"
   ]
  },
  {
   "cell_type": "code",
   "execution_count": 10,
   "metadata": {},
   "outputs": [],
   "source": [
    "trainloader = load_train_data(train_dir,bz,0,0)\n",
    "testloader,valloader = load_vt_data(test_dir,val_dir,bz)"
   ]
  },
  {
   "cell_type": "markdown",
   "metadata": {},
   "source": [
    "### Label mapping\n",
    "\n",
    "You'll also need to load in a mapping from category label to category name. You can find this in the file `cat_to_name.json`. It's a JSON object which you can read in with the [`json` module](https://docs.python.org/2/library/json.html). This will give you a dictionary mapping the integer encoded categories to the actual names of the flowers."
   ]
  },
  {
   "cell_type": "code",
   "execution_count": 11,
   "metadata": {},
   "outputs": [],
   "source": [
    "import json\n",
    "\n",
    "with open('cat_to_name.json', 'r') as f:\n",
    "    cat_to_name = json.load(f)"
   ]
  },
  {
   "cell_type": "code",
   "execution_count": 12,
   "metadata": {},
   "outputs": [
    {
     "data": {
      "text/html": [
       "<div>\n",
       "<style>\n",
       "    .dataframe thead tr:only-child th {\n",
       "        text-align: right;\n",
       "    }\n",
       "\n",
       "    .dataframe thead th {\n",
       "        text-align: left;\n",
       "    }\n",
       "\n",
       "    .dataframe tbody tr th {\n",
       "        vertical-align: top;\n",
       "    }\n",
       "</style>\n",
       "<table border=\"1\" class=\"dataframe\">\n",
       "  <thead>\n",
       "    <tr style=\"text-align: right;\">\n",
       "      <th></th>\n",
       "      <th>0</th>\n",
       "    </tr>\n",
       "  </thead>\n",
       "  <tbody>\n",
       "    <tr>\n",
       "      <th>21</th>\n",
       "      <td>fire lily</td>\n",
       "    </tr>\n",
       "    <tr>\n",
       "      <th>3</th>\n",
       "      <td>canterbury bells</td>\n",
       "    </tr>\n",
       "    <tr>\n",
       "      <th>45</th>\n",
       "      <td>bolero deep blue</td>\n",
       "    </tr>\n",
       "    <tr>\n",
       "      <th>1</th>\n",
       "      <td>pink primrose</td>\n",
       "    </tr>\n",
       "    <tr>\n",
       "      <th>34</th>\n",
       "      <td>mexican aster</td>\n",
       "    </tr>\n",
       "  </tbody>\n",
       "</table>\n",
       "</div>"
      ],
      "text/plain": [
       "                   0\n",
       "21         fire lily\n",
       "3   canterbury bells\n",
       "45  bolero deep blue\n",
       "1      pink primrose\n",
       "34     mexican aster"
      ]
     },
     "execution_count": 12,
     "metadata": {},
     "output_type": "execute_result"
    }
   ],
   "source": [
    "pdCat = pd.DataFrame.from_dict(cat_to_name,orient='index')\n",
    "pdCat.head(5)"
   ]
  },
  {
   "cell_type": "code",
   "execution_count": 13,
   "metadata": {},
   "outputs": [],
   "source": [
    "n_classes = pdCat.shape[0]\n"
   ]
  },
  {
   "cell_type": "markdown",
   "metadata": {},
   "source": [
    "# Building and training the classifier\n",
    "\n",
    "Now that the data is ready, it's time to build and train the classifier. As usual, you should use one of the pretrained models from `torchvision.models` to get the image features. Build and train a new feed-forward classifier using those features.\n",
    "\n",
    "We're going to leave this part up to you. Refer to [the rubric](https://review.udacity.com/#!/rubrics/1663/view) for guidance on successfully completing this section. Things you'll need to do:\n",
    "\n",
    "* Load a [pre-trained network](http://pytorch.org/docs/master/torchvision/models.html) (If you need a starting point, the VGG networks work great and are straightforward to use)\n",
    "* Define a new, untrained feed-forward network as a classifier, using ReLU activations and dropout\n",
    "* Train the classifier layers using backpropagation using the pre-trained network to get the features\n",
    "* Track the loss and accuracy on the validation set to determine the best hyperparameters\n",
    "\n",
    "We've left a cell open for you below, but use as many as you need. Our advice is to break the problem up into smaller parts you can run separately. Check that each part is doing what you expect, then move on to the next. You'll likely find that as you work through each part, you'll need to go back and modify your previous code. This is totally normal!\n",
    "\n",
    "When training make sure you're updating only the weights of the feed-forward network. You should be able to get the validation accuracy above 70% if you build everything right. Make sure to try different hyperparameters (learning rate, units in the classifier, epochs, etc) to find the best model. Save those hyperparameters to use as default values in the next part of the project.\n",
    "\n",
    "One last important tip if you're using the workspace to run your code: To avoid having your workspace disconnect during the long-running tasks in this notebook, please read in the earlier page in this lesson called Intro to GPU Workspaces about Keeping Your Session Active. You'll want to include code from the workspace_utils.py module."
   ]
  },
  {
   "cell_type": "code",
   "execution_count": 60,
   "metadata": {},
   "outputs": [],
   "source": [
    "# TODO: Build and train your network"
   ]
  },
  {
   "cell_type": "markdown",
   "metadata": {},
   "source": [
    "#### Model 1"
   ]
  },
  {
   "cell_type": "code",
   "execution_count": 23,
   "metadata": {},
   "outputs": [],
   "source": [
    "Res18_1 = models.resnet18(pretrained=True)\n",
    "\n",
    "#model1 \n",
    "output = 102\n",
    "h_layers = [512, 256, 128]\n",
    "p_drop = 0\n",
    "lr = 0.001\n",
    "\n"
   ]
  },
  {
   "cell_type": "code",
   "execution_count": 24,
   "metadata": {},
   "outputs": [
    {
     "data": {
      "text/plain": [
       "[512, 256, 128]"
      ]
     },
     "execution_count": 24,
     "metadata": {},
     "output_type": "execute_result"
    }
   ],
   "source": [
    "h_layers"
   ]
  },
  {
   "cell_type": "code",
   "execution_count": 25,
   "metadata": {},
   "outputs": [
    {
     "name": "stdout",
     "output_type": "stream",
     "text": [
      "[512, 512, 256, 128, 102]\n",
      "<zip object at 0x7f4b564b0d48>\n"
     ]
    },
    {
     "data": {
      "text/plain": [
       "Sequential(\n",
       "  (fc0): Linear(in_features=512, out_features=512, bias=True)\n",
       "  (relu0): ReLU()\n",
       "  (drop0): Dropout(p=0)\n",
       "  (fc1): Linear(in_features=512, out_features=256, bias=True)\n",
       "  (relu1): ReLU()\n",
       "  (drop1): Dropout(p=0)\n",
       "  (fc2): Linear(in_features=256, out_features=128, bias=True)\n",
       "  (relu2): ReLU()\n",
       "  (drop2): Dropout(p=0)\n",
       "  (fc3): Linear(in_features=128, out_features=102, bias=True)\n",
       "  (relu3): ReLU()\n",
       "  (softmax): LogSoftmax()\n",
       ")"
      ]
     },
     "execution_count": 25,
     "metadata": {},
     "output_type": "execute_result"
    }
   ],
   "source": [
    "add_Resnetclass(Res18_1,output,h_layers,p_drop=p_drop)\n",
    "Res18_1.fc\n"
   ]
  },
  {
   "cell_type": "code",
   "execution_count": null,
   "metadata": {},
   "outputs": [],
   "source": []
  },
  {
   "cell_type": "code",
   "execution_count": 26,
   "metadata": {},
   "outputs": [],
   "source": [
    "criterion = nn.NLLLoss()\n",
    "optimizer = optim.Adam(Res18_1.fc.parameters(), lr=lr)"
   ]
  },
  {
   "cell_type": "code",
   "execution_count": 27,
   "metadata": {},
   "outputs": [
    {
     "name": "stdout",
     "output_type": "stream",
     "text": [
      "Epoch: 1/5..  Training Loss: 4.542..  Cross_val Loss: 4.456..  Val Accuracy: 0.101\n",
      "Epoch: 1/5..  Training Loss: 4.313..  Cross_val Loss: 4.227..  Val Accuracy: 0.108\n",
      "Epoch: 1/5..  Training Loss: 4.038..  Cross_val Loss: 3.954..  Val Accuracy: 0.194\n",
      "Epoch: 1/5..  Training Loss: 3.881..  Cross_val Loss: 3.798..  Val Accuracy: 0.240\n",
      "Epoch: 1/5..  Training Loss: 3.715..  Cross_val Loss: 3.732..  Val Accuracy: 0.239\n",
      "Epoch: 2/5..  Training Loss: 2.870..  Cross_val Loss: 3.571..  Val Accuracy: 0.287\n",
      "Epoch: 2/5..  Training Loss: 3.520..  Cross_val Loss: 3.538..  Val Accuracy: 0.293\n",
      "Epoch: 2/5..  Training Loss: 3.372..  Cross_val Loss: 3.453..  Val Accuracy: 0.310\n",
      "Epoch: 2/5..  Training Loss: 3.376..  Cross_val Loss: 3.442..  Val Accuracy: 0.310\n",
      "Epoch: 2/5..  Training Loss: 3.277..  Cross_val Loss: 3.386..  Val Accuracy: 0.314\n",
      "Epoch: 3/5..  Training Loss: 2.261..  Cross_val Loss: 3.403..  Val Accuracy: 0.312\n",
      "Epoch: 3/5..  Training Loss: 3.126..  Cross_val Loss: 3.383..  Val Accuracy: 0.319\n",
      "Epoch: 3/5..  Training Loss: 3.068..  Cross_val Loss: 3.328..  Val Accuracy: 0.325\n",
      "Epoch: 3/5..  Training Loss: 3.277..  Cross_val Loss: 3.363..  Val Accuracy: 0.327\n",
      "Epoch: 3/5..  Training Loss: 3.291..  Cross_val Loss: 3.315..  Val Accuracy: 0.329\n",
      "Epoch: 4/5..  Training Loss: 1.726..  Cross_val Loss: 3.306..  Val Accuracy: 0.326\n",
      "Epoch: 4/5..  Training Loss: 3.049..  Cross_val Loss: 3.300..  Val Accuracy: 0.332\n",
      "Epoch: 4/5..  Training Loss: 3.140..  Cross_val Loss: 3.295..  Val Accuracy: 0.334\n",
      "Epoch: 4/5..  Training Loss: 3.038..  Cross_val Loss: 3.280..  Val Accuracy: 0.334\n",
      "Epoch: 4/5..  Training Loss: 3.219..  Cross_val Loss: 3.299..  Val Accuracy: 0.332\n",
      "Epoch: 5/5..  Training Loss: 1.113..  Cross_val Loss: 3.246..  Val Accuracy: 0.339\n",
      "Epoch: 5/5..  Training Loss: 3.011..  Cross_val Loss: 3.226..  Val Accuracy: 0.337\n",
      "Epoch: 5/5..  Training Loss: 2.959..  Cross_val Loss: 3.273..  Val Accuracy: 0.338\n",
      "Epoch: 5/5..  Training Loss: 3.153..  Cross_val Loss: 3.300..  Val Accuracy: 0.329\n",
      "Epoch: 5/5..  Training Loss: 3.081..  Cross_val Loss: 3.255..  Val Accuracy: 0.339\n"
     ]
    },
    {
     "data": {
      "text/plain": [
       "ResNet(\n",
       "  (conv1): Conv2d(3, 64, kernel_size=(7, 7), stride=(2, 2), padding=(3, 3), bias=False)\n",
       "  (bn1): BatchNorm2d(64, eps=1e-05, momentum=0.1, affine=True, track_running_stats=True)\n",
       "  (relu): ReLU(inplace)\n",
       "  (maxpool): MaxPool2d(kernel_size=3, stride=2, padding=1, dilation=1, ceil_mode=False)\n",
       "  (layer1): Sequential(\n",
       "    (0): BasicBlock(\n",
       "      (conv1): Conv2d(64, 64, kernel_size=(3, 3), stride=(1, 1), padding=(1, 1), bias=False)\n",
       "      (bn1): BatchNorm2d(64, eps=1e-05, momentum=0.1, affine=True, track_running_stats=True)\n",
       "      (relu): ReLU(inplace)\n",
       "      (conv2): Conv2d(64, 64, kernel_size=(3, 3), stride=(1, 1), padding=(1, 1), bias=False)\n",
       "      (bn2): BatchNorm2d(64, eps=1e-05, momentum=0.1, affine=True, track_running_stats=True)\n",
       "    )\n",
       "    (1): BasicBlock(\n",
       "      (conv1): Conv2d(64, 64, kernel_size=(3, 3), stride=(1, 1), padding=(1, 1), bias=False)\n",
       "      (bn1): BatchNorm2d(64, eps=1e-05, momentum=0.1, affine=True, track_running_stats=True)\n",
       "      (relu): ReLU(inplace)\n",
       "      (conv2): Conv2d(64, 64, kernel_size=(3, 3), stride=(1, 1), padding=(1, 1), bias=False)\n",
       "      (bn2): BatchNorm2d(64, eps=1e-05, momentum=0.1, affine=True, track_running_stats=True)\n",
       "    )\n",
       "  )\n",
       "  (layer2): Sequential(\n",
       "    (0): BasicBlock(\n",
       "      (conv1): Conv2d(64, 128, kernel_size=(3, 3), stride=(2, 2), padding=(1, 1), bias=False)\n",
       "      (bn1): BatchNorm2d(128, eps=1e-05, momentum=0.1, affine=True, track_running_stats=True)\n",
       "      (relu): ReLU(inplace)\n",
       "      (conv2): Conv2d(128, 128, kernel_size=(3, 3), stride=(1, 1), padding=(1, 1), bias=False)\n",
       "      (bn2): BatchNorm2d(128, eps=1e-05, momentum=0.1, affine=True, track_running_stats=True)\n",
       "      (downsample): Sequential(\n",
       "        (0): Conv2d(64, 128, kernel_size=(1, 1), stride=(2, 2), bias=False)\n",
       "        (1): BatchNorm2d(128, eps=1e-05, momentum=0.1, affine=True, track_running_stats=True)\n",
       "      )\n",
       "    )\n",
       "    (1): BasicBlock(\n",
       "      (conv1): Conv2d(128, 128, kernel_size=(3, 3), stride=(1, 1), padding=(1, 1), bias=False)\n",
       "      (bn1): BatchNorm2d(128, eps=1e-05, momentum=0.1, affine=True, track_running_stats=True)\n",
       "      (relu): ReLU(inplace)\n",
       "      (conv2): Conv2d(128, 128, kernel_size=(3, 3), stride=(1, 1), padding=(1, 1), bias=False)\n",
       "      (bn2): BatchNorm2d(128, eps=1e-05, momentum=0.1, affine=True, track_running_stats=True)\n",
       "    )\n",
       "  )\n",
       "  (layer3): Sequential(\n",
       "    (0): BasicBlock(\n",
       "      (conv1): Conv2d(128, 256, kernel_size=(3, 3), stride=(2, 2), padding=(1, 1), bias=False)\n",
       "      (bn1): BatchNorm2d(256, eps=1e-05, momentum=0.1, affine=True, track_running_stats=True)\n",
       "      (relu): ReLU(inplace)\n",
       "      (conv2): Conv2d(256, 256, kernel_size=(3, 3), stride=(1, 1), padding=(1, 1), bias=False)\n",
       "      (bn2): BatchNorm2d(256, eps=1e-05, momentum=0.1, affine=True, track_running_stats=True)\n",
       "      (downsample): Sequential(\n",
       "        (0): Conv2d(128, 256, kernel_size=(1, 1), stride=(2, 2), bias=False)\n",
       "        (1): BatchNorm2d(256, eps=1e-05, momentum=0.1, affine=True, track_running_stats=True)\n",
       "      )\n",
       "    )\n",
       "    (1): BasicBlock(\n",
       "      (conv1): Conv2d(256, 256, kernel_size=(3, 3), stride=(1, 1), padding=(1, 1), bias=False)\n",
       "      (bn1): BatchNorm2d(256, eps=1e-05, momentum=0.1, affine=True, track_running_stats=True)\n",
       "      (relu): ReLU(inplace)\n",
       "      (conv2): Conv2d(256, 256, kernel_size=(3, 3), stride=(1, 1), padding=(1, 1), bias=False)\n",
       "      (bn2): BatchNorm2d(256, eps=1e-05, momentum=0.1, affine=True, track_running_stats=True)\n",
       "    )\n",
       "  )\n",
       "  (layer4): Sequential(\n",
       "    (0): BasicBlock(\n",
       "      (conv1): Conv2d(256, 512, kernel_size=(3, 3), stride=(2, 2), padding=(1, 1), bias=False)\n",
       "      (bn1): BatchNorm2d(512, eps=1e-05, momentum=0.1, affine=True, track_running_stats=True)\n",
       "      (relu): ReLU(inplace)\n",
       "      (conv2): Conv2d(512, 512, kernel_size=(3, 3), stride=(1, 1), padding=(1, 1), bias=False)\n",
       "      (bn2): BatchNorm2d(512, eps=1e-05, momentum=0.1, affine=True, track_running_stats=True)\n",
       "      (downsample): Sequential(\n",
       "        (0): Conv2d(256, 512, kernel_size=(1, 1), stride=(2, 2), bias=False)\n",
       "        (1): BatchNorm2d(512, eps=1e-05, momentum=0.1, affine=True, track_running_stats=True)\n",
       "      )\n",
       "    )\n",
       "    (1): BasicBlock(\n",
       "      (conv1): Conv2d(512, 512, kernel_size=(3, 3), stride=(1, 1), padding=(1, 1), bias=False)\n",
       "      (bn1): BatchNorm2d(512, eps=1e-05, momentum=0.1, affine=True, track_running_stats=True)\n",
       "      (relu): ReLU(inplace)\n",
       "      (conv2): Conv2d(512, 512, kernel_size=(3, 3), stride=(1, 1), padding=(1, 1), bias=False)\n",
       "      (bn2): BatchNorm2d(512, eps=1e-05, momentum=0.1, affine=True, track_running_stats=True)\n",
       "    )\n",
       "  )\n",
       "  (avgpool): AvgPool2d(kernel_size=7, stride=1, padding=0)\n",
       "  (fc): Sequential(\n",
       "    (fc0): Linear(in_features=512, out_features=512, bias=True)\n",
       "    (relu0): ReLU()\n",
       "    (drop0): Dropout(p=0)\n",
       "    (fc1): Linear(in_features=512, out_features=256, bias=True)\n",
       "    (relu1): ReLU()\n",
       "    (drop1): Dropout(p=0)\n",
       "    (fc2): Linear(in_features=256, out_features=128, bias=True)\n",
       "    (relu2): ReLU()\n",
       "    (drop2): Dropout(p=0)\n",
       "    (fc3): Linear(in_features=128, out_features=102, bias=True)\n",
       "    (relu3): ReLU()\n",
       "    (softmax): LogSoftmax()\n",
       "  )\n",
       ")"
      ]
     },
     "execution_count": 27,
     "metadata": {},
     "output_type": "execute_result"
    }
   ],
   "source": [
    "train_mod(Res18_1,trainloader,valloader,device,optimizer,criterion,epochs=5,print_every=20)"
   ]
  },
  {
   "cell_type": "code",
   "execution_count": 29,
   "metadata": {},
   "outputs": [],
   "source": [
    "trainloader = load_train_data(train_dir,bz,0.50,90)"
   ]
  },
  {
   "cell_type": "code",
   "execution_count": 30,
   "metadata": {},
   "outputs": [
    {
     "name": "stdout",
     "output_type": "stream",
     "text": [
      "Epoch: 1/1..  Training Loss: 3.371..  Cross_val Loss: 3.538..  Val Accuracy: 0.310\n",
      "Epoch: 1/1..  Training Loss: 3.331..  Cross_val Loss: 3.384..  Val Accuracy: 0.323\n",
      "Epoch: 1/1..  Training Loss: 3.334..  Cross_val Loss: 3.449..  Val Accuracy: 0.311\n",
      "Epoch: 1/1..  Training Loss: 3.343..  Cross_val Loss: 3.537..  Val Accuracy: 0.309\n",
      "Epoch: 1/1..  Training Loss: 3.165..  Cross_val Loss: 3.504..  Val Accuracy: 0.319\n"
     ]
    },
    {
     "data": {
      "text/plain": [
       "ResNet(\n",
       "  (conv1): Conv2d(3, 64, kernel_size=(7, 7), stride=(2, 2), padding=(3, 3), bias=False)\n",
       "  (bn1): BatchNorm2d(64, eps=1e-05, momentum=0.1, affine=True, track_running_stats=True)\n",
       "  (relu): ReLU(inplace)\n",
       "  (maxpool): MaxPool2d(kernel_size=3, stride=2, padding=1, dilation=1, ceil_mode=False)\n",
       "  (layer1): Sequential(\n",
       "    (0): BasicBlock(\n",
       "      (conv1): Conv2d(64, 64, kernel_size=(3, 3), stride=(1, 1), padding=(1, 1), bias=False)\n",
       "      (bn1): BatchNorm2d(64, eps=1e-05, momentum=0.1, affine=True, track_running_stats=True)\n",
       "      (relu): ReLU(inplace)\n",
       "      (conv2): Conv2d(64, 64, kernel_size=(3, 3), stride=(1, 1), padding=(1, 1), bias=False)\n",
       "      (bn2): BatchNorm2d(64, eps=1e-05, momentum=0.1, affine=True, track_running_stats=True)\n",
       "    )\n",
       "    (1): BasicBlock(\n",
       "      (conv1): Conv2d(64, 64, kernel_size=(3, 3), stride=(1, 1), padding=(1, 1), bias=False)\n",
       "      (bn1): BatchNorm2d(64, eps=1e-05, momentum=0.1, affine=True, track_running_stats=True)\n",
       "      (relu): ReLU(inplace)\n",
       "      (conv2): Conv2d(64, 64, kernel_size=(3, 3), stride=(1, 1), padding=(1, 1), bias=False)\n",
       "      (bn2): BatchNorm2d(64, eps=1e-05, momentum=0.1, affine=True, track_running_stats=True)\n",
       "    )\n",
       "  )\n",
       "  (layer2): Sequential(\n",
       "    (0): BasicBlock(\n",
       "      (conv1): Conv2d(64, 128, kernel_size=(3, 3), stride=(2, 2), padding=(1, 1), bias=False)\n",
       "      (bn1): BatchNorm2d(128, eps=1e-05, momentum=0.1, affine=True, track_running_stats=True)\n",
       "      (relu): ReLU(inplace)\n",
       "      (conv2): Conv2d(128, 128, kernel_size=(3, 3), stride=(1, 1), padding=(1, 1), bias=False)\n",
       "      (bn2): BatchNorm2d(128, eps=1e-05, momentum=0.1, affine=True, track_running_stats=True)\n",
       "      (downsample): Sequential(\n",
       "        (0): Conv2d(64, 128, kernel_size=(1, 1), stride=(2, 2), bias=False)\n",
       "        (1): BatchNorm2d(128, eps=1e-05, momentum=0.1, affine=True, track_running_stats=True)\n",
       "      )\n",
       "    )\n",
       "    (1): BasicBlock(\n",
       "      (conv1): Conv2d(128, 128, kernel_size=(3, 3), stride=(1, 1), padding=(1, 1), bias=False)\n",
       "      (bn1): BatchNorm2d(128, eps=1e-05, momentum=0.1, affine=True, track_running_stats=True)\n",
       "      (relu): ReLU(inplace)\n",
       "      (conv2): Conv2d(128, 128, kernel_size=(3, 3), stride=(1, 1), padding=(1, 1), bias=False)\n",
       "      (bn2): BatchNorm2d(128, eps=1e-05, momentum=0.1, affine=True, track_running_stats=True)\n",
       "    )\n",
       "  )\n",
       "  (layer3): Sequential(\n",
       "    (0): BasicBlock(\n",
       "      (conv1): Conv2d(128, 256, kernel_size=(3, 3), stride=(2, 2), padding=(1, 1), bias=False)\n",
       "      (bn1): BatchNorm2d(256, eps=1e-05, momentum=0.1, affine=True, track_running_stats=True)\n",
       "      (relu): ReLU(inplace)\n",
       "      (conv2): Conv2d(256, 256, kernel_size=(3, 3), stride=(1, 1), padding=(1, 1), bias=False)\n",
       "      (bn2): BatchNorm2d(256, eps=1e-05, momentum=0.1, affine=True, track_running_stats=True)\n",
       "      (downsample): Sequential(\n",
       "        (0): Conv2d(128, 256, kernel_size=(1, 1), stride=(2, 2), bias=False)\n",
       "        (1): BatchNorm2d(256, eps=1e-05, momentum=0.1, affine=True, track_running_stats=True)\n",
       "      )\n",
       "    )\n",
       "    (1): BasicBlock(\n",
       "      (conv1): Conv2d(256, 256, kernel_size=(3, 3), stride=(1, 1), padding=(1, 1), bias=False)\n",
       "      (bn1): BatchNorm2d(256, eps=1e-05, momentum=0.1, affine=True, track_running_stats=True)\n",
       "      (relu): ReLU(inplace)\n",
       "      (conv2): Conv2d(256, 256, kernel_size=(3, 3), stride=(1, 1), padding=(1, 1), bias=False)\n",
       "      (bn2): BatchNorm2d(256, eps=1e-05, momentum=0.1, affine=True, track_running_stats=True)\n",
       "    )\n",
       "  )\n",
       "  (layer4): Sequential(\n",
       "    (0): BasicBlock(\n",
       "      (conv1): Conv2d(256, 512, kernel_size=(3, 3), stride=(2, 2), padding=(1, 1), bias=False)\n",
       "      (bn1): BatchNorm2d(512, eps=1e-05, momentum=0.1, affine=True, track_running_stats=True)\n",
       "      (relu): ReLU(inplace)\n",
       "      (conv2): Conv2d(512, 512, kernel_size=(3, 3), stride=(1, 1), padding=(1, 1), bias=False)\n",
       "      (bn2): BatchNorm2d(512, eps=1e-05, momentum=0.1, affine=True, track_running_stats=True)\n",
       "      (downsample): Sequential(\n",
       "        (0): Conv2d(256, 512, kernel_size=(1, 1), stride=(2, 2), bias=False)\n",
       "        (1): BatchNorm2d(512, eps=1e-05, momentum=0.1, affine=True, track_running_stats=True)\n",
       "      )\n",
       "    )\n",
       "    (1): BasicBlock(\n",
       "      (conv1): Conv2d(512, 512, kernel_size=(3, 3), stride=(1, 1), padding=(1, 1), bias=False)\n",
       "      (bn1): BatchNorm2d(512, eps=1e-05, momentum=0.1, affine=True, track_running_stats=True)\n",
       "      (relu): ReLU(inplace)\n",
       "      (conv2): Conv2d(512, 512, kernel_size=(3, 3), stride=(1, 1), padding=(1, 1), bias=False)\n",
       "      (bn2): BatchNorm2d(512, eps=1e-05, momentum=0.1, affine=True, track_running_stats=True)\n",
       "    )\n",
       "  )\n",
       "  (avgpool): AvgPool2d(kernel_size=7, stride=1, padding=0)\n",
       "  (fc): Sequential(\n",
       "    (fc0): Linear(in_features=512, out_features=512, bias=True)\n",
       "    (relu0): ReLU()\n",
       "    (drop0): Dropout(p=0)\n",
       "    (fc1): Linear(in_features=512, out_features=256, bias=True)\n",
       "    (relu1): ReLU()\n",
       "    (drop1): Dropout(p=0)\n",
       "    (fc2): Linear(in_features=256, out_features=128, bias=True)\n",
       "    (relu2): ReLU()\n",
       "    (drop2): Dropout(p=0)\n",
       "    (fc3): Linear(in_features=128, out_features=102, bias=True)\n",
       "    (relu3): ReLU()\n",
       "    (softmax): LogSoftmax()\n",
       "  )\n",
       ")"
      ]
     },
     "execution_count": 30,
     "metadata": {},
     "output_type": "execute_result"
    }
   ],
   "source": [
    "train_mod(Res18_1,trainloader,valloader,device,optimizer,criterion,epochs=1,print_every=20)"
   ]
  },
  {
   "cell_type": "code",
   "execution_count": 33,
   "metadata": {},
   "outputs": [
    {
     "data": {
      "text/plain": [
       "Sequential(\n",
       "  (fc0): Linear(in_features=512, out_features=512, bias=True)\n",
       "  (relu0): ReLU()\n",
       "  (drop0): Dropout(p=0.2)\n",
       "  (fc1): Linear(in_features=512, out_features=256, bias=True)\n",
       "  (relu1): ReLU()\n",
       "  (drop1): Dropout(p=0.2)\n",
       "  (fc2): Linear(in_features=256, out_features=128, bias=True)\n",
       "  (relu2): ReLU()\n",
       "  (drop2): Dropout(p=0.2)\n",
       "  (fc3): Linear(in_features=128, out_features=102, bias=True)\n",
       "  (relu3): ReLU()\n",
       "  (softmax): LogSoftmax()\n",
       ")"
      ]
     },
     "execution_count": 33,
     "metadata": {},
     "output_type": "execute_result"
    }
   ],
   "source": [
    "Res18_1.fc.drop0.p = 0.2\n",
    "Res18_1.fc.drop1.p = 0.2\n",
    "Res18_1.fc.drop2.p = 0.2\n",
    "Res18_1.fc"
   ]
  },
  {
   "cell_type": "code",
   "execution_count": 34,
   "metadata": {},
   "outputs": [
    {
     "name": "stdout",
     "output_type": "stream",
     "text": [
      "Epoch: 1/3..  Training Loss: 3.388..  Cross_val Loss: 3.425..  Val Accuracy: 0.317\n",
      "Epoch: 1/3..  Training Loss: 3.388..  Cross_val Loss: 3.361..  Val Accuracy: 0.333\n",
      "Epoch: 1/3..  Training Loss: 3.333..  Cross_val Loss: 3.344..  Val Accuracy: 0.327\n",
      "Epoch: 1/3..  Training Loss: 3.441..  Cross_val Loss: 3.323..  Val Accuracy: 0.337\n",
      "Epoch: 1/3..  Training Loss: 3.322..  Cross_val Loss: 3.348..  Val Accuracy: 0.327\n",
      "Epoch: 2/3..  Training Loss: 2.780..  Cross_val Loss: 3.327..  Val Accuracy: 0.332\n",
      "Epoch: 2/3..  Training Loss: 3.371..  Cross_val Loss: 3.388..  Val Accuracy: 0.325\n",
      "Epoch: 2/3..  Training Loss: 3.292..  Cross_val Loss: 3.303..  Val Accuracy: 0.339\n",
      "Epoch: 2/3..  Training Loss: 3.352..  Cross_val Loss: 3.281..  Val Accuracy: 0.337\n",
      "Epoch: 2/3..  Training Loss: 3.314..  Cross_val Loss: 3.336..  Val Accuracy: 0.337\n",
      "Epoch: 3/3..  Training Loss: 2.262..  Cross_val Loss: 3.281..  Val Accuracy: 0.340\n",
      "Epoch: 3/3..  Training Loss: 3.397..  Cross_val Loss: 3.286..  Val Accuracy: 0.341\n",
      "Epoch: 3/3..  Training Loss: 3.278..  Cross_val Loss: 3.340..  Val Accuracy: 0.335\n",
      "Epoch: 3/3..  Training Loss: 3.185..  Cross_val Loss: 3.303..  Val Accuracy: 0.345\n",
      "Epoch: 3/3..  Training Loss: 3.204..  Cross_val Loss: 3.319..  Val Accuracy: 0.332\n"
     ]
    },
    {
     "data": {
      "text/plain": [
       "ResNet(\n",
       "  (conv1): Conv2d(3, 64, kernel_size=(7, 7), stride=(2, 2), padding=(3, 3), bias=False)\n",
       "  (bn1): BatchNorm2d(64, eps=1e-05, momentum=0.1, affine=True, track_running_stats=True)\n",
       "  (relu): ReLU(inplace)\n",
       "  (maxpool): MaxPool2d(kernel_size=3, stride=2, padding=1, dilation=1, ceil_mode=False)\n",
       "  (layer1): Sequential(\n",
       "    (0): BasicBlock(\n",
       "      (conv1): Conv2d(64, 64, kernel_size=(3, 3), stride=(1, 1), padding=(1, 1), bias=False)\n",
       "      (bn1): BatchNorm2d(64, eps=1e-05, momentum=0.1, affine=True, track_running_stats=True)\n",
       "      (relu): ReLU(inplace)\n",
       "      (conv2): Conv2d(64, 64, kernel_size=(3, 3), stride=(1, 1), padding=(1, 1), bias=False)\n",
       "      (bn2): BatchNorm2d(64, eps=1e-05, momentum=0.1, affine=True, track_running_stats=True)\n",
       "    )\n",
       "    (1): BasicBlock(\n",
       "      (conv1): Conv2d(64, 64, kernel_size=(3, 3), stride=(1, 1), padding=(1, 1), bias=False)\n",
       "      (bn1): BatchNorm2d(64, eps=1e-05, momentum=0.1, affine=True, track_running_stats=True)\n",
       "      (relu): ReLU(inplace)\n",
       "      (conv2): Conv2d(64, 64, kernel_size=(3, 3), stride=(1, 1), padding=(1, 1), bias=False)\n",
       "      (bn2): BatchNorm2d(64, eps=1e-05, momentum=0.1, affine=True, track_running_stats=True)\n",
       "    )\n",
       "  )\n",
       "  (layer2): Sequential(\n",
       "    (0): BasicBlock(\n",
       "      (conv1): Conv2d(64, 128, kernel_size=(3, 3), stride=(2, 2), padding=(1, 1), bias=False)\n",
       "      (bn1): BatchNorm2d(128, eps=1e-05, momentum=0.1, affine=True, track_running_stats=True)\n",
       "      (relu): ReLU(inplace)\n",
       "      (conv2): Conv2d(128, 128, kernel_size=(3, 3), stride=(1, 1), padding=(1, 1), bias=False)\n",
       "      (bn2): BatchNorm2d(128, eps=1e-05, momentum=0.1, affine=True, track_running_stats=True)\n",
       "      (downsample): Sequential(\n",
       "        (0): Conv2d(64, 128, kernel_size=(1, 1), stride=(2, 2), bias=False)\n",
       "        (1): BatchNorm2d(128, eps=1e-05, momentum=0.1, affine=True, track_running_stats=True)\n",
       "      )\n",
       "    )\n",
       "    (1): BasicBlock(\n",
       "      (conv1): Conv2d(128, 128, kernel_size=(3, 3), stride=(1, 1), padding=(1, 1), bias=False)\n",
       "      (bn1): BatchNorm2d(128, eps=1e-05, momentum=0.1, affine=True, track_running_stats=True)\n",
       "      (relu): ReLU(inplace)\n",
       "      (conv2): Conv2d(128, 128, kernel_size=(3, 3), stride=(1, 1), padding=(1, 1), bias=False)\n",
       "      (bn2): BatchNorm2d(128, eps=1e-05, momentum=0.1, affine=True, track_running_stats=True)\n",
       "    )\n",
       "  )\n",
       "  (layer3): Sequential(\n",
       "    (0): BasicBlock(\n",
       "      (conv1): Conv2d(128, 256, kernel_size=(3, 3), stride=(2, 2), padding=(1, 1), bias=False)\n",
       "      (bn1): BatchNorm2d(256, eps=1e-05, momentum=0.1, affine=True, track_running_stats=True)\n",
       "      (relu): ReLU(inplace)\n",
       "      (conv2): Conv2d(256, 256, kernel_size=(3, 3), stride=(1, 1), padding=(1, 1), bias=False)\n",
       "      (bn2): BatchNorm2d(256, eps=1e-05, momentum=0.1, affine=True, track_running_stats=True)\n",
       "      (downsample): Sequential(\n",
       "        (0): Conv2d(128, 256, kernel_size=(1, 1), stride=(2, 2), bias=False)\n",
       "        (1): BatchNorm2d(256, eps=1e-05, momentum=0.1, affine=True, track_running_stats=True)\n",
       "      )\n",
       "    )\n",
       "    (1): BasicBlock(\n",
       "      (conv1): Conv2d(256, 256, kernel_size=(3, 3), stride=(1, 1), padding=(1, 1), bias=False)\n",
       "      (bn1): BatchNorm2d(256, eps=1e-05, momentum=0.1, affine=True, track_running_stats=True)\n",
       "      (relu): ReLU(inplace)\n",
       "      (conv2): Conv2d(256, 256, kernel_size=(3, 3), stride=(1, 1), padding=(1, 1), bias=False)\n",
       "      (bn2): BatchNorm2d(256, eps=1e-05, momentum=0.1, affine=True, track_running_stats=True)\n",
       "    )\n",
       "  )\n",
       "  (layer4): Sequential(\n",
       "    (0): BasicBlock(\n",
       "      (conv1): Conv2d(256, 512, kernel_size=(3, 3), stride=(2, 2), padding=(1, 1), bias=False)\n",
       "      (bn1): BatchNorm2d(512, eps=1e-05, momentum=0.1, affine=True, track_running_stats=True)\n",
       "      (relu): ReLU(inplace)\n",
       "      (conv2): Conv2d(512, 512, kernel_size=(3, 3), stride=(1, 1), padding=(1, 1), bias=False)\n",
       "      (bn2): BatchNorm2d(512, eps=1e-05, momentum=0.1, affine=True, track_running_stats=True)\n",
       "      (downsample): Sequential(\n",
       "        (0): Conv2d(256, 512, kernel_size=(1, 1), stride=(2, 2), bias=False)\n",
       "        (1): BatchNorm2d(512, eps=1e-05, momentum=0.1, affine=True, track_running_stats=True)\n",
       "      )\n",
       "    )\n",
       "    (1): BasicBlock(\n",
       "      (conv1): Conv2d(512, 512, kernel_size=(3, 3), stride=(1, 1), padding=(1, 1), bias=False)\n",
       "      (bn1): BatchNorm2d(512, eps=1e-05, momentum=0.1, affine=True, track_running_stats=True)\n",
       "      (relu): ReLU(inplace)\n",
       "      (conv2): Conv2d(512, 512, kernel_size=(3, 3), stride=(1, 1), padding=(1, 1), bias=False)\n",
       "      (bn2): BatchNorm2d(512, eps=1e-05, momentum=0.1, affine=True, track_running_stats=True)\n",
       "    )\n",
       "  )\n",
       "  (avgpool): AvgPool2d(kernel_size=7, stride=1, padding=0)\n",
       "  (fc): Sequential(\n",
       "    (fc0): Linear(in_features=512, out_features=512, bias=True)\n",
       "    (relu0): ReLU()\n",
       "    (drop0): Dropout(p=0.2)\n",
       "    (fc1): Linear(in_features=512, out_features=256, bias=True)\n",
       "    (relu1): ReLU()\n",
       "    (drop1): Dropout(p=0.2)\n",
       "    (fc2): Linear(in_features=256, out_features=128, bias=True)\n",
       "    (relu2): ReLU()\n",
       "    (drop2): Dropout(p=0.2)\n",
       "    (fc3): Linear(in_features=128, out_features=102, bias=True)\n",
       "    (relu3): ReLU()\n",
       "    (softmax): LogSoftmax()\n",
       "  )\n",
       ")"
      ]
     },
     "execution_count": 34,
     "metadata": {},
     "output_type": "execute_result"
    }
   ],
   "source": [
    "train_mod(Res18_1,trainloader,valloader,device,optimizer,criterion,epochs=3,print_every=20)"
   ]
  },
  {
   "cell_type": "code",
   "execution_count": 35,
   "metadata": {},
   "outputs": [
    {
     "name": "stdout",
     "output_type": "stream",
     "text": [
      "Checkpoint saved:  model1.pth\n"
     ]
    }
   ],
   "source": [
    "save_res18_mod('model1.pth',Res18_1,n_classes,h_layers,0.2)"
   ]
  },
  {
   "cell_type": "code",
   "execution_count": 14,
   "metadata": {},
   "outputs": [
    {
     "name": "stderr",
     "output_type": "stream",
     "text": [
      "Downloading: \"https://download.pytorch.org/models/resnet18-5c106cde.pth\" to /root/.torch/models/resnet18-5c106cde.pth\n",
      "100%|██████████| 46827520/46827520 [00:01<00:00, 38711610.80it/s]\n"
     ]
    },
    {
     "name": "stdout",
     "output_type": "stream",
     "text": [
      "[512, 256, 102]\n",
      "<zip object at 0x7f44e4d66c88>\n"
     ]
    },
    {
     "data": {
      "text/plain": [
       "Sequential(\n",
       "  (fc0): Linear(in_features=512, out_features=256, bias=True)\n",
       "  (relu0): ReLU()\n",
       "  (drop0): Dropout(p=0)\n",
       "  (fc1): Linear(in_features=256, out_features=102, bias=True)\n",
       "  (relu1): ReLU()\n",
       "  (softmax): LogSoftmax()\n",
       ")"
      ]
     },
     "execution_count": 14,
     "metadata": {},
     "output_type": "execute_result"
    }
   ],
   "source": [
    "Res18_2 = models.resnet18(pretrained=True)\n",
    "\n",
    "#model1 \n",
    "output = 102\n",
    "h_layers = [256]\n",
    "p_drop = 0\n",
    "lr = 0.001\n",
    "\n",
    "add_Resnetclass(Res18_2,output,h_layers,p_drop=p_drop)\n",
    "Res18_2.fc"
   ]
  },
  {
   "cell_type": "code",
   "execution_count": 15,
   "metadata": {},
   "outputs": [],
   "source": [
    "criterion2 = nn.NLLLoss()\n",
    "optimizer2 = optim.Adam(Res18_2.fc.parameters(), lr=lr)"
   ]
  },
  {
   "cell_type": "code",
   "execution_count": 16,
   "metadata": {},
   "outputs": [],
   "source": [
    "trainloader = load_train_data(train_dir,bz,0,0)"
   ]
  },
  {
   "cell_type": "code",
   "execution_count": 17,
   "metadata": {},
   "outputs": [
    {
     "name": "stdout",
     "output_type": "stream",
     "text": [
      "Epoch: 1/4..  Training Loss: 4.477..  Cross_val Loss: 4.285..  Val Accuracy: 0.174\n",
      "Epoch: 1/4..  Training Loss: 4.115..  Cross_val Loss: 3.946..  Val Accuracy: 0.213\n",
      "Epoch: 1/4..  Training Loss: 3.926..  Cross_val Loss: 3.722..  Val Accuracy: 0.271\n",
      "Epoch: 1/4..  Training Loss: 3.678..  Cross_val Loss: 3.572..  Val Accuracy: 0.302\n",
      "Epoch: 1/4..  Training Loss: 3.502..  Cross_val Loss: 3.528..  Val Accuracy: 0.297\n",
      "Epoch: 2/4..  Training Loss: 2.944..  Cross_val Loss: 3.465..  Val Accuracy: 0.307\n",
      "Epoch: 2/4..  Training Loss: 3.325..  Cross_val Loss: 3.423..  Val Accuracy: 0.306\n",
      "Epoch: 2/4..  Training Loss: 3.425..  Cross_val Loss: 3.378..  Val Accuracy: 0.315\n",
      "Epoch: 2/4..  Training Loss: 3.265..  Cross_val Loss: 3.356..  Val Accuracy: 0.315\n",
      "Epoch: 2/4..  Training Loss: 3.361..  Cross_val Loss: 3.330..  Val Accuracy: 0.317\n",
      "Epoch: 3/4..  Training Loss: 2.335..  Cross_val Loss: 3.350..  Val Accuracy: 0.325\n",
      "Epoch: 3/4..  Training Loss: 3.193..  Cross_val Loss: 3.333..  Val Accuracy: 0.316\n",
      "Epoch: 3/4..  Training Loss: 3.272..  Cross_val Loss: 3.298..  Val Accuracy: 0.326\n",
      "Epoch: 3/4..  Training Loss: 3.250..  Cross_val Loss: 3.296..  Val Accuracy: 0.325\n",
      "Epoch: 3/4..  Training Loss: 3.205..  Cross_val Loss: 3.271..  Val Accuracy: 0.326\n",
      "Epoch: 4/4..  Training Loss: 1.795..  Cross_val Loss: 3.284..  Val Accuracy: 0.330\n",
      "Epoch: 4/4..  Training Loss: 3.207..  Cross_val Loss: 3.323..  Val Accuracy: 0.318\n",
      "Epoch: 4/4..  Training Loss: 3.169..  Cross_val Loss: 3.261..  Val Accuracy: 0.327\n",
      "Epoch: 4/4..  Training Loss: 3.198..  Cross_val Loss: 3.269..  Val Accuracy: 0.326\n",
      "Epoch: 4/4..  Training Loss: 3.139..  Cross_val Loss: 3.261..  Val Accuracy: 0.326\n"
     ]
    },
    {
     "data": {
      "text/plain": [
       "ResNet(\n",
       "  (conv1): Conv2d(3, 64, kernel_size=(7, 7), stride=(2, 2), padding=(3, 3), bias=False)\n",
       "  (bn1): BatchNorm2d(64, eps=1e-05, momentum=0.1, affine=True, track_running_stats=True)\n",
       "  (relu): ReLU(inplace)\n",
       "  (maxpool): MaxPool2d(kernel_size=3, stride=2, padding=1, dilation=1, ceil_mode=False)\n",
       "  (layer1): Sequential(\n",
       "    (0): BasicBlock(\n",
       "      (conv1): Conv2d(64, 64, kernel_size=(3, 3), stride=(1, 1), padding=(1, 1), bias=False)\n",
       "      (bn1): BatchNorm2d(64, eps=1e-05, momentum=0.1, affine=True, track_running_stats=True)\n",
       "      (relu): ReLU(inplace)\n",
       "      (conv2): Conv2d(64, 64, kernel_size=(3, 3), stride=(1, 1), padding=(1, 1), bias=False)\n",
       "      (bn2): BatchNorm2d(64, eps=1e-05, momentum=0.1, affine=True, track_running_stats=True)\n",
       "    )\n",
       "    (1): BasicBlock(\n",
       "      (conv1): Conv2d(64, 64, kernel_size=(3, 3), stride=(1, 1), padding=(1, 1), bias=False)\n",
       "      (bn1): BatchNorm2d(64, eps=1e-05, momentum=0.1, affine=True, track_running_stats=True)\n",
       "      (relu): ReLU(inplace)\n",
       "      (conv2): Conv2d(64, 64, kernel_size=(3, 3), stride=(1, 1), padding=(1, 1), bias=False)\n",
       "      (bn2): BatchNorm2d(64, eps=1e-05, momentum=0.1, affine=True, track_running_stats=True)\n",
       "    )\n",
       "  )\n",
       "  (layer2): Sequential(\n",
       "    (0): BasicBlock(\n",
       "      (conv1): Conv2d(64, 128, kernel_size=(3, 3), stride=(2, 2), padding=(1, 1), bias=False)\n",
       "      (bn1): BatchNorm2d(128, eps=1e-05, momentum=0.1, affine=True, track_running_stats=True)\n",
       "      (relu): ReLU(inplace)\n",
       "      (conv2): Conv2d(128, 128, kernel_size=(3, 3), stride=(1, 1), padding=(1, 1), bias=False)\n",
       "      (bn2): BatchNorm2d(128, eps=1e-05, momentum=0.1, affine=True, track_running_stats=True)\n",
       "      (downsample): Sequential(\n",
       "        (0): Conv2d(64, 128, kernel_size=(1, 1), stride=(2, 2), bias=False)\n",
       "        (1): BatchNorm2d(128, eps=1e-05, momentum=0.1, affine=True, track_running_stats=True)\n",
       "      )\n",
       "    )\n",
       "    (1): BasicBlock(\n",
       "      (conv1): Conv2d(128, 128, kernel_size=(3, 3), stride=(1, 1), padding=(1, 1), bias=False)\n",
       "      (bn1): BatchNorm2d(128, eps=1e-05, momentum=0.1, affine=True, track_running_stats=True)\n",
       "      (relu): ReLU(inplace)\n",
       "      (conv2): Conv2d(128, 128, kernel_size=(3, 3), stride=(1, 1), padding=(1, 1), bias=False)\n",
       "      (bn2): BatchNorm2d(128, eps=1e-05, momentum=0.1, affine=True, track_running_stats=True)\n",
       "    )\n",
       "  )\n",
       "  (layer3): Sequential(\n",
       "    (0): BasicBlock(\n",
       "      (conv1): Conv2d(128, 256, kernel_size=(3, 3), stride=(2, 2), padding=(1, 1), bias=False)\n",
       "      (bn1): BatchNorm2d(256, eps=1e-05, momentum=0.1, affine=True, track_running_stats=True)\n",
       "      (relu): ReLU(inplace)\n",
       "      (conv2): Conv2d(256, 256, kernel_size=(3, 3), stride=(1, 1), padding=(1, 1), bias=False)\n",
       "      (bn2): BatchNorm2d(256, eps=1e-05, momentum=0.1, affine=True, track_running_stats=True)\n",
       "      (downsample): Sequential(\n",
       "        (0): Conv2d(128, 256, kernel_size=(1, 1), stride=(2, 2), bias=False)\n",
       "        (1): BatchNorm2d(256, eps=1e-05, momentum=0.1, affine=True, track_running_stats=True)\n",
       "      )\n",
       "    )\n",
       "    (1): BasicBlock(\n",
       "      (conv1): Conv2d(256, 256, kernel_size=(3, 3), stride=(1, 1), padding=(1, 1), bias=False)\n",
       "      (bn1): BatchNorm2d(256, eps=1e-05, momentum=0.1, affine=True, track_running_stats=True)\n",
       "      (relu): ReLU(inplace)\n",
       "      (conv2): Conv2d(256, 256, kernel_size=(3, 3), stride=(1, 1), padding=(1, 1), bias=False)\n",
       "      (bn2): BatchNorm2d(256, eps=1e-05, momentum=0.1, affine=True, track_running_stats=True)\n",
       "    )\n",
       "  )\n",
       "  (layer4): Sequential(\n",
       "    (0): BasicBlock(\n",
       "      (conv1): Conv2d(256, 512, kernel_size=(3, 3), stride=(2, 2), padding=(1, 1), bias=False)\n",
       "      (bn1): BatchNorm2d(512, eps=1e-05, momentum=0.1, affine=True, track_running_stats=True)\n",
       "      (relu): ReLU(inplace)\n",
       "      (conv2): Conv2d(512, 512, kernel_size=(3, 3), stride=(1, 1), padding=(1, 1), bias=False)\n",
       "      (bn2): BatchNorm2d(512, eps=1e-05, momentum=0.1, affine=True, track_running_stats=True)\n",
       "      (downsample): Sequential(\n",
       "        (0): Conv2d(256, 512, kernel_size=(1, 1), stride=(2, 2), bias=False)\n",
       "        (1): BatchNorm2d(512, eps=1e-05, momentum=0.1, affine=True, track_running_stats=True)\n",
       "      )\n",
       "    )\n",
       "    (1): BasicBlock(\n",
       "      (conv1): Conv2d(512, 512, kernel_size=(3, 3), stride=(1, 1), padding=(1, 1), bias=False)\n",
       "      (bn1): BatchNorm2d(512, eps=1e-05, momentum=0.1, affine=True, track_running_stats=True)\n",
       "      (relu): ReLU(inplace)\n",
       "      (conv2): Conv2d(512, 512, kernel_size=(3, 3), stride=(1, 1), padding=(1, 1), bias=False)\n",
       "      (bn2): BatchNorm2d(512, eps=1e-05, momentum=0.1, affine=True, track_running_stats=True)\n",
       "    )\n",
       "  )\n",
       "  (avgpool): AvgPool2d(kernel_size=7, stride=1, padding=0)\n",
       "  (fc): Sequential(\n",
       "    (fc0): Linear(in_features=512, out_features=256, bias=True)\n",
       "    (relu0): ReLU()\n",
       "    (drop0): Dropout(p=0)\n",
       "    (fc1): Linear(in_features=256, out_features=102, bias=True)\n",
       "    (relu1): ReLU()\n",
       "    (softmax): LogSoftmax()\n",
       "  )\n",
       ")"
      ]
     },
     "execution_count": 17,
     "metadata": {},
     "output_type": "execute_result"
    }
   ],
   "source": [
    "train_mod(Res18_2,trainloader,valloader,device,optimizer2,criterion2,epochs=4,print_every=20)"
   ]
  },
  {
   "cell_type": "code",
   "execution_count": 18,
   "metadata": {},
   "outputs": [],
   "source": [
    "trainloader = load_train_data(train_dir,bz,0.25,12.5)"
   ]
  },
  {
   "cell_type": "code",
   "execution_count": 19,
   "metadata": {},
   "outputs": [
    {
     "name": "stdout",
     "output_type": "stream",
     "text": [
      "Epoch: 1/4..  Training Loss: 3.290..  Cross_val Loss: 3.389..  Val Accuracy: 0.316\n",
      "Epoch: 1/4..  Training Loss: 3.242..  Cross_val Loss: 3.380..  Val Accuracy: 0.307\n",
      "Epoch: 1/4..  Training Loss: 3.294..  Cross_val Loss: 3.344..  Val Accuracy: 0.316\n",
      "Epoch: 1/4..  Training Loss: 3.279..  Cross_val Loss: 3.350..  Val Accuracy: 0.321\n",
      "Epoch: 1/4..  Training Loss: 3.398..  Cross_val Loss: 3.341..  Val Accuracy: 0.320\n",
      "Epoch: 2/4..  Training Loss: 2.787..  Cross_val Loss: 3.338..  Val Accuracy: 0.317\n",
      "Epoch: 2/4..  Training Loss: 3.191..  Cross_val Loss: 3.378..  Val Accuracy: 0.312\n",
      "Epoch: 2/4..  Training Loss: 3.172..  Cross_val Loss: 3.341..  Val Accuracy: 0.320\n",
      "Epoch: 2/4..  Training Loss: 3.297..  Cross_val Loss: 3.312..  Val Accuracy: 0.326\n",
      "Epoch: 2/4..  Training Loss: 3.213..  Cross_val Loss: 3.345..  Val Accuracy: 0.329\n",
      "Epoch: 3/4..  Training Loss: 2.178..  Cross_val Loss: 3.322..  Val Accuracy: 0.327\n",
      "Epoch: 3/4..  Training Loss: 3.249..  Cross_val Loss: 3.314..  Val Accuracy: 0.325\n",
      "Epoch: 3/4..  Training Loss: 3.173..  Cross_val Loss: 3.287..  Val Accuracy: 0.326\n",
      "Epoch: 3/4..  Training Loss: 3.261..  Cross_val Loss: 3.293..  Val Accuracy: 0.332\n",
      "Epoch: 3/4..  Training Loss: 3.154..  Cross_val Loss: 3.311..  Val Accuracy: 0.325\n",
      "Epoch: 4/4..  Training Loss: 1.799..  Cross_val Loss: 3.279..  Val Accuracy: 0.333\n",
      "Epoch: 4/4..  Training Loss: 3.142..  Cross_val Loss: 3.299..  Val Accuracy: 0.333\n",
      "Epoch: 4/4..  Training Loss: 3.143..  Cross_val Loss: 3.304..  Val Accuracy: 0.326\n",
      "Epoch: 4/4..  Training Loss: 3.279..  Cross_val Loss: 3.276..  Val Accuracy: 0.333\n",
      "Epoch: 4/4..  Training Loss: 3.156..  Cross_val Loss: 3.285..  Val Accuracy: 0.330\n"
     ]
    },
    {
     "data": {
      "text/plain": [
       "ResNet(\n",
       "  (conv1): Conv2d(3, 64, kernel_size=(7, 7), stride=(2, 2), padding=(3, 3), bias=False)\n",
       "  (bn1): BatchNorm2d(64, eps=1e-05, momentum=0.1, affine=True, track_running_stats=True)\n",
       "  (relu): ReLU(inplace)\n",
       "  (maxpool): MaxPool2d(kernel_size=3, stride=2, padding=1, dilation=1, ceil_mode=False)\n",
       "  (layer1): Sequential(\n",
       "    (0): BasicBlock(\n",
       "      (conv1): Conv2d(64, 64, kernel_size=(3, 3), stride=(1, 1), padding=(1, 1), bias=False)\n",
       "      (bn1): BatchNorm2d(64, eps=1e-05, momentum=0.1, affine=True, track_running_stats=True)\n",
       "      (relu): ReLU(inplace)\n",
       "      (conv2): Conv2d(64, 64, kernel_size=(3, 3), stride=(1, 1), padding=(1, 1), bias=False)\n",
       "      (bn2): BatchNorm2d(64, eps=1e-05, momentum=0.1, affine=True, track_running_stats=True)\n",
       "    )\n",
       "    (1): BasicBlock(\n",
       "      (conv1): Conv2d(64, 64, kernel_size=(3, 3), stride=(1, 1), padding=(1, 1), bias=False)\n",
       "      (bn1): BatchNorm2d(64, eps=1e-05, momentum=0.1, affine=True, track_running_stats=True)\n",
       "      (relu): ReLU(inplace)\n",
       "      (conv2): Conv2d(64, 64, kernel_size=(3, 3), stride=(1, 1), padding=(1, 1), bias=False)\n",
       "      (bn2): BatchNorm2d(64, eps=1e-05, momentum=0.1, affine=True, track_running_stats=True)\n",
       "    )\n",
       "  )\n",
       "  (layer2): Sequential(\n",
       "    (0): BasicBlock(\n",
       "      (conv1): Conv2d(64, 128, kernel_size=(3, 3), stride=(2, 2), padding=(1, 1), bias=False)\n",
       "      (bn1): BatchNorm2d(128, eps=1e-05, momentum=0.1, affine=True, track_running_stats=True)\n",
       "      (relu): ReLU(inplace)\n",
       "      (conv2): Conv2d(128, 128, kernel_size=(3, 3), stride=(1, 1), padding=(1, 1), bias=False)\n",
       "      (bn2): BatchNorm2d(128, eps=1e-05, momentum=0.1, affine=True, track_running_stats=True)\n",
       "      (downsample): Sequential(\n",
       "        (0): Conv2d(64, 128, kernel_size=(1, 1), stride=(2, 2), bias=False)\n",
       "        (1): BatchNorm2d(128, eps=1e-05, momentum=0.1, affine=True, track_running_stats=True)\n",
       "      )\n",
       "    )\n",
       "    (1): BasicBlock(\n",
       "      (conv1): Conv2d(128, 128, kernel_size=(3, 3), stride=(1, 1), padding=(1, 1), bias=False)\n",
       "      (bn1): BatchNorm2d(128, eps=1e-05, momentum=0.1, affine=True, track_running_stats=True)\n",
       "      (relu): ReLU(inplace)\n",
       "      (conv2): Conv2d(128, 128, kernel_size=(3, 3), stride=(1, 1), padding=(1, 1), bias=False)\n",
       "      (bn2): BatchNorm2d(128, eps=1e-05, momentum=0.1, affine=True, track_running_stats=True)\n",
       "    )\n",
       "  )\n",
       "  (layer3): Sequential(\n",
       "    (0): BasicBlock(\n",
       "      (conv1): Conv2d(128, 256, kernel_size=(3, 3), stride=(2, 2), padding=(1, 1), bias=False)\n",
       "      (bn1): BatchNorm2d(256, eps=1e-05, momentum=0.1, affine=True, track_running_stats=True)\n",
       "      (relu): ReLU(inplace)\n",
       "      (conv2): Conv2d(256, 256, kernel_size=(3, 3), stride=(1, 1), padding=(1, 1), bias=False)\n",
       "      (bn2): BatchNorm2d(256, eps=1e-05, momentum=0.1, affine=True, track_running_stats=True)\n",
       "      (downsample): Sequential(\n",
       "        (0): Conv2d(128, 256, kernel_size=(1, 1), stride=(2, 2), bias=False)\n",
       "        (1): BatchNorm2d(256, eps=1e-05, momentum=0.1, affine=True, track_running_stats=True)\n",
       "      )\n",
       "    )\n",
       "    (1): BasicBlock(\n",
       "      (conv1): Conv2d(256, 256, kernel_size=(3, 3), stride=(1, 1), padding=(1, 1), bias=False)\n",
       "      (bn1): BatchNorm2d(256, eps=1e-05, momentum=0.1, affine=True, track_running_stats=True)\n",
       "      (relu): ReLU(inplace)\n",
       "      (conv2): Conv2d(256, 256, kernel_size=(3, 3), stride=(1, 1), padding=(1, 1), bias=False)\n",
       "      (bn2): BatchNorm2d(256, eps=1e-05, momentum=0.1, affine=True, track_running_stats=True)\n",
       "    )\n",
       "  )\n",
       "  (layer4): Sequential(\n",
       "    (0): BasicBlock(\n",
       "      (conv1): Conv2d(256, 512, kernel_size=(3, 3), stride=(2, 2), padding=(1, 1), bias=False)\n",
       "      (bn1): BatchNorm2d(512, eps=1e-05, momentum=0.1, affine=True, track_running_stats=True)\n",
       "      (relu): ReLU(inplace)\n",
       "      (conv2): Conv2d(512, 512, kernel_size=(3, 3), stride=(1, 1), padding=(1, 1), bias=False)\n",
       "      (bn2): BatchNorm2d(512, eps=1e-05, momentum=0.1, affine=True, track_running_stats=True)\n",
       "      (downsample): Sequential(\n",
       "        (0): Conv2d(256, 512, kernel_size=(1, 1), stride=(2, 2), bias=False)\n",
       "        (1): BatchNorm2d(512, eps=1e-05, momentum=0.1, affine=True, track_running_stats=True)\n",
       "      )\n",
       "    )\n",
       "    (1): BasicBlock(\n",
       "      (conv1): Conv2d(512, 512, kernel_size=(3, 3), stride=(1, 1), padding=(1, 1), bias=False)\n",
       "      (bn1): BatchNorm2d(512, eps=1e-05, momentum=0.1, affine=True, track_running_stats=True)\n",
       "      (relu): ReLU(inplace)\n",
       "      (conv2): Conv2d(512, 512, kernel_size=(3, 3), stride=(1, 1), padding=(1, 1), bias=False)\n",
       "      (bn2): BatchNorm2d(512, eps=1e-05, momentum=0.1, affine=True, track_running_stats=True)\n",
       "    )\n",
       "  )\n",
       "  (avgpool): AvgPool2d(kernel_size=7, stride=1, padding=0)\n",
       "  (fc): Sequential(\n",
       "    (fc0): Linear(in_features=512, out_features=256, bias=True)\n",
       "    (relu0): ReLU()\n",
       "    (drop0): Dropout(p=0)\n",
       "    (fc1): Linear(in_features=256, out_features=102, bias=True)\n",
       "    (relu1): ReLU()\n",
       "    (softmax): LogSoftmax()\n",
       "  )\n",
       ")"
      ]
     },
     "execution_count": 19,
     "metadata": {},
     "output_type": "execute_result"
    }
   ],
   "source": [
    "train_mod(Res18_2,trainloader,valloader,device,optimizer2,criterion2,epochs=4,print_every=20)"
   ]
  },
  {
   "cell_type": "code",
   "execution_count": 21,
   "metadata": {},
   "outputs": [
    {
     "data": {
      "text/plain": [
       "Sequential(\n",
       "  (fc0): Linear(in_features=512, out_features=256, bias=True)\n",
       "  (relu0): ReLU()\n",
       "  (drop0): Dropout(p=0.2)\n",
       "  (fc1): Linear(in_features=256, out_features=102, bias=True)\n",
       "  (relu1): ReLU()\n",
       "  (softmax): LogSoftmax()\n",
       ")"
      ]
     },
     "execution_count": 21,
     "metadata": {},
     "output_type": "execute_result"
    }
   ],
   "source": [
    "p_drop = 0.2\n",
    "Res18_2.fc.drop0.p = p_drop\n",
    "Res18_2.fc"
   ]
  },
  {
   "cell_type": "code",
   "execution_count": 22,
   "metadata": {},
   "outputs": [],
   "source": [
    "trainloader = load_train_data(train_dir,bz,0.25,12.5)"
   ]
  },
  {
   "cell_type": "code",
   "execution_count": 23,
   "metadata": {},
   "outputs": [
    {
     "name": "stdout",
     "output_type": "stream",
     "text": [
      "Epoch: 1/4..  Training Loss: 3.224..  Cross_val Loss: 3.279..  Val Accuracy: 0.331\n",
      "Epoch: 1/4..  Training Loss: 3.157..  Cross_val Loss: 3.299..  Val Accuracy: 0.320\n",
      "Epoch: 1/4..  Training Loss: 3.236..  Cross_val Loss: 3.301..  Val Accuracy: 0.332\n",
      "Epoch: 1/4..  Training Loss: 3.249..  Cross_val Loss: 3.303..  Val Accuracy: 0.328\n",
      "Epoch: 1/4..  Training Loss: 3.249..  Cross_val Loss: 3.287..  Val Accuracy: 0.333\n",
      "Epoch: 2/4..  Training Loss: 2.696..  Cross_val Loss: 3.280..  Val Accuracy: 0.332\n",
      "Epoch: 2/4..  Training Loss: 3.147..  Cross_val Loss: 3.266..  Val Accuracy: 0.332\n",
      "Epoch: 2/4..  Training Loss: 3.173..  Cross_val Loss: 3.291..  Val Accuracy: 0.319\n",
      "Epoch: 2/4..  Training Loss: 3.283..  Cross_val Loss: 3.281..  Val Accuracy: 0.323\n",
      "Epoch: 2/4..  Training Loss: 3.217..  Cross_val Loss: 3.284..  Val Accuracy: 0.327\n",
      "Epoch: 3/4..  Training Loss: 2.215..  Cross_val Loss: 3.281..  Val Accuracy: 0.329\n",
      "Epoch: 3/4..  Training Loss: 3.206..  Cross_val Loss: 3.274..  Val Accuracy: 0.330\n",
      "Epoch: 3/4..  Training Loss: 3.253..  Cross_val Loss: 3.261..  Val Accuracy: 0.334\n",
      "Epoch: 3/4..  Training Loss: 3.204..  Cross_val Loss: 3.287..  Val Accuracy: 0.329\n",
      "Epoch: 3/4..  Training Loss: 3.155..  Cross_val Loss: 3.281..  Val Accuracy: 0.334\n",
      "Epoch: 4/4..  Training Loss: 1.785..  Cross_val Loss: 3.293..  Val Accuracy: 0.326\n",
      "Epoch: 4/4..  Training Loss: 3.171..  Cross_val Loss: 3.305..  Val Accuracy: 0.327\n",
      "Epoch: 4/4..  Training Loss: 3.170..  Cross_val Loss: 3.257..  Val Accuracy: 0.335\n",
      "Epoch: 4/4..  Training Loss: 3.189..  Cross_val Loss: 3.265..  Val Accuracy: 0.329\n",
      "Epoch: 4/4..  Training Loss: 3.224..  Cross_val Loss: 3.303..  Val Accuracy: 0.324\n"
     ]
    },
    {
     "data": {
      "text/plain": [
       "ResNet(\n",
       "  (conv1): Conv2d(3, 64, kernel_size=(7, 7), stride=(2, 2), padding=(3, 3), bias=False)\n",
       "  (bn1): BatchNorm2d(64, eps=1e-05, momentum=0.1, affine=True, track_running_stats=True)\n",
       "  (relu): ReLU(inplace)\n",
       "  (maxpool): MaxPool2d(kernel_size=3, stride=2, padding=1, dilation=1, ceil_mode=False)\n",
       "  (layer1): Sequential(\n",
       "    (0): BasicBlock(\n",
       "      (conv1): Conv2d(64, 64, kernel_size=(3, 3), stride=(1, 1), padding=(1, 1), bias=False)\n",
       "      (bn1): BatchNorm2d(64, eps=1e-05, momentum=0.1, affine=True, track_running_stats=True)\n",
       "      (relu): ReLU(inplace)\n",
       "      (conv2): Conv2d(64, 64, kernel_size=(3, 3), stride=(1, 1), padding=(1, 1), bias=False)\n",
       "      (bn2): BatchNorm2d(64, eps=1e-05, momentum=0.1, affine=True, track_running_stats=True)\n",
       "    )\n",
       "    (1): BasicBlock(\n",
       "      (conv1): Conv2d(64, 64, kernel_size=(3, 3), stride=(1, 1), padding=(1, 1), bias=False)\n",
       "      (bn1): BatchNorm2d(64, eps=1e-05, momentum=0.1, affine=True, track_running_stats=True)\n",
       "      (relu): ReLU(inplace)\n",
       "      (conv2): Conv2d(64, 64, kernel_size=(3, 3), stride=(1, 1), padding=(1, 1), bias=False)\n",
       "      (bn2): BatchNorm2d(64, eps=1e-05, momentum=0.1, affine=True, track_running_stats=True)\n",
       "    )\n",
       "  )\n",
       "  (layer2): Sequential(\n",
       "    (0): BasicBlock(\n",
       "      (conv1): Conv2d(64, 128, kernel_size=(3, 3), stride=(2, 2), padding=(1, 1), bias=False)\n",
       "      (bn1): BatchNorm2d(128, eps=1e-05, momentum=0.1, affine=True, track_running_stats=True)\n",
       "      (relu): ReLU(inplace)\n",
       "      (conv2): Conv2d(128, 128, kernel_size=(3, 3), stride=(1, 1), padding=(1, 1), bias=False)\n",
       "      (bn2): BatchNorm2d(128, eps=1e-05, momentum=0.1, affine=True, track_running_stats=True)\n",
       "      (downsample): Sequential(\n",
       "        (0): Conv2d(64, 128, kernel_size=(1, 1), stride=(2, 2), bias=False)\n",
       "        (1): BatchNorm2d(128, eps=1e-05, momentum=0.1, affine=True, track_running_stats=True)\n",
       "      )\n",
       "    )\n",
       "    (1): BasicBlock(\n",
       "      (conv1): Conv2d(128, 128, kernel_size=(3, 3), stride=(1, 1), padding=(1, 1), bias=False)\n",
       "      (bn1): BatchNorm2d(128, eps=1e-05, momentum=0.1, affine=True, track_running_stats=True)\n",
       "      (relu): ReLU(inplace)\n",
       "      (conv2): Conv2d(128, 128, kernel_size=(3, 3), stride=(1, 1), padding=(1, 1), bias=False)\n",
       "      (bn2): BatchNorm2d(128, eps=1e-05, momentum=0.1, affine=True, track_running_stats=True)\n",
       "    )\n",
       "  )\n",
       "  (layer3): Sequential(\n",
       "    (0): BasicBlock(\n",
       "      (conv1): Conv2d(128, 256, kernel_size=(3, 3), stride=(2, 2), padding=(1, 1), bias=False)\n",
       "      (bn1): BatchNorm2d(256, eps=1e-05, momentum=0.1, affine=True, track_running_stats=True)\n",
       "      (relu): ReLU(inplace)\n",
       "      (conv2): Conv2d(256, 256, kernel_size=(3, 3), stride=(1, 1), padding=(1, 1), bias=False)\n",
       "      (bn2): BatchNorm2d(256, eps=1e-05, momentum=0.1, affine=True, track_running_stats=True)\n",
       "      (downsample): Sequential(\n",
       "        (0): Conv2d(128, 256, kernel_size=(1, 1), stride=(2, 2), bias=False)\n",
       "        (1): BatchNorm2d(256, eps=1e-05, momentum=0.1, affine=True, track_running_stats=True)\n",
       "      )\n",
       "    )\n",
       "    (1): BasicBlock(\n",
       "      (conv1): Conv2d(256, 256, kernel_size=(3, 3), stride=(1, 1), padding=(1, 1), bias=False)\n",
       "      (bn1): BatchNorm2d(256, eps=1e-05, momentum=0.1, affine=True, track_running_stats=True)\n",
       "      (relu): ReLU(inplace)\n",
       "      (conv2): Conv2d(256, 256, kernel_size=(3, 3), stride=(1, 1), padding=(1, 1), bias=False)\n",
       "      (bn2): BatchNorm2d(256, eps=1e-05, momentum=0.1, affine=True, track_running_stats=True)\n",
       "    )\n",
       "  )\n",
       "  (layer4): Sequential(\n",
       "    (0): BasicBlock(\n",
       "      (conv1): Conv2d(256, 512, kernel_size=(3, 3), stride=(2, 2), padding=(1, 1), bias=False)\n",
       "      (bn1): BatchNorm2d(512, eps=1e-05, momentum=0.1, affine=True, track_running_stats=True)\n",
       "      (relu): ReLU(inplace)\n",
       "      (conv2): Conv2d(512, 512, kernel_size=(3, 3), stride=(1, 1), padding=(1, 1), bias=False)\n",
       "      (bn2): BatchNorm2d(512, eps=1e-05, momentum=0.1, affine=True, track_running_stats=True)\n",
       "      (downsample): Sequential(\n",
       "        (0): Conv2d(256, 512, kernel_size=(1, 1), stride=(2, 2), bias=False)\n",
       "        (1): BatchNorm2d(512, eps=1e-05, momentum=0.1, affine=True, track_running_stats=True)\n",
       "      )\n",
       "    )\n",
       "    (1): BasicBlock(\n",
       "      (conv1): Conv2d(512, 512, kernel_size=(3, 3), stride=(1, 1), padding=(1, 1), bias=False)\n",
       "      (bn1): BatchNorm2d(512, eps=1e-05, momentum=0.1, affine=True, track_running_stats=True)\n",
       "      (relu): ReLU(inplace)\n",
       "      (conv2): Conv2d(512, 512, kernel_size=(3, 3), stride=(1, 1), padding=(1, 1), bias=False)\n",
       "      (bn2): BatchNorm2d(512, eps=1e-05, momentum=0.1, affine=True, track_running_stats=True)\n",
       "    )\n",
       "  )\n",
       "  (avgpool): AvgPool2d(kernel_size=7, stride=1, padding=0)\n",
       "  (fc): Sequential(\n",
       "    (fc0): Linear(in_features=512, out_features=256, bias=True)\n",
       "    (relu0): ReLU()\n",
       "    (drop0): Dropout(p=0.2)\n",
       "    (fc1): Linear(in_features=256, out_features=102, bias=True)\n",
       "    (relu1): ReLU()\n",
       "    (softmax): LogSoftmax()\n",
       "  )\n",
       ")"
      ]
     },
     "execution_count": 23,
     "metadata": {},
     "output_type": "execute_result"
    }
   ],
   "source": [
    "train_mod(Res18_2,trainloader,valloader,device,optimizer2,criterion2,epochs=4,print_every=20)"
   ]
  },
  {
   "cell_type": "code",
   "execution_count": 17,
   "metadata": {},
   "outputs": [
    {
     "name": "stdout",
     "output_type": "stream",
     "text": [
      "[512, 512, 256, 128, 102]\n",
      "<zip object at 0x7f26099cfa08>\n"
     ]
    }
   ],
   "source": [
    "Res18_1A = load_res18_mod('model1.pth')"
   ]
  },
  {
   "cell_type": "code",
   "execution_count": 20,
   "metadata": {},
   "outputs": [],
   "source": [
    "criterion = nn.NLLLoss()\n",
    "optimizer = optim.Adam(Res18_1A.fc.parameters(), lr=0.001)"
   ]
  },
  {
   "cell_type": "code",
   "execution_count": 21,
   "metadata": {},
   "outputs": [
    {
     "data": {
      "text/plain": [
       "Sequential(\n",
       "  (fc0): Linear(in_features=512, out_features=512, bias=True)\n",
       "  (relu0): ReLU()\n",
       "  (drop0): Dropout(p=0.2)\n",
       "  (fc1): Linear(in_features=512, out_features=256, bias=True)\n",
       "  (relu1): ReLU()\n",
       "  (drop1): Dropout(p=0.2)\n",
       "  (fc2): Linear(in_features=256, out_features=128, bias=True)\n",
       "  (relu2): ReLU()\n",
       "  (drop2): Dropout(p=0.2)\n",
       "  (fc3): Linear(in_features=128, out_features=102, bias=True)\n",
       "  (relu3): ReLU()\n",
       "  (softmax): LogSoftmax()\n",
       ")"
      ]
     },
     "execution_count": 21,
     "metadata": {},
     "output_type": "execute_result"
    }
   ],
   "source": []
  },
  {
   "cell_type": "code",
   "execution_count": 22,
   "metadata": {},
   "outputs": [
    {
     "name": "stdout",
     "output_type": "stream",
     "text": [
      "Epoch: 1/4..  Training Loss: 3.118..  Cross_val Loss: 3.188..  Val Accuracy: 0.349\n",
      "Epoch: 1/4..  Training Loss: 3.051..  Cross_val Loss: 3.196..  Val Accuracy: 0.345\n",
      "Epoch: 1/4..  Training Loss: 3.024..  Cross_val Loss: 3.181..  Val Accuracy: 0.349\n",
      "Epoch: 1/4..  Training Loss: 2.997..  Cross_val Loss: 3.194..  Val Accuracy: 0.350\n",
      "Epoch: 1/4..  Training Loss: 3.138..  Cross_val Loss: 3.164..  Val Accuracy: 0.356\n",
      "Epoch: 2/4..  Training Loss: 2.573..  Cross_val Loss: 3.173..  Val Accuracy: 0.351\n",
      "Epoch: 2/4..  Training Loss: 3.046..  Cross_val Loss: 3.158..  Val Accuracy: 0.351\n",
      "Epoch: 2/4..  Training Loss: 2.951..  Cross_val Loss: 3.157..  Val Accuracy: 0.353\n",
      "Epoch: 2/4..  Training Loss: 3.022..  Cross_val Loss: 3.178..  Val Accuracy: 0.343\n",
      "Epoch: 2/4..  Training Loss: 3.084..  Cross_val Loss: 3.173..  Val Accuracy: 0.344\n",
      "Epoch: 3/4..  Training Loss: 2.108..  Cross_val Loss: 3.165..  Val Accuracy: 0.355\n",
      "Epoch: 3/4..  Training Loss: 2.987..  Cross_val Loss: 3.184..  Val Accuracy: 0.350\n",
      "Epoch: 3/4..  Training Loss: 2.981..  Cross_val Loss: 3.164..  Val Accuracy: 0.357\n",
      "Epoch: 3/4..  Training Loss: 2.896..  Cross_val Loss: 3.166..  Val Accuracy: 0.350\n",
      "Epoch: 3/4..  Training Loss: 3.073..  Cross_val Loss: 3.155..  Val Accuracy: 0.353\n",
      "Epoch: 4/4..  Training Loss: 1.681..  Cross_val Loss: 3.175..  Val Accuracy: 0.343\n",
      "Epoch: 4/4..  Training Loss: 2.907..  Cross_val Loss: 3.149..  Val Accuracy: 0.347\n",
      "Epoch: 4/4..  Training Loss: 3.033..  Cross_val Loss: 3.160..  Val Accuracy: 0.356\n",
      "Epoch: 4/4..  Training Loss: 2.946..  Cross_val Loss: 3.159..  Val Accuracy: 0.350\n",
      "Epoch: 4/4..  Training Loss: 2.994..  Cross_val Loss: 3.149..  Val Accuracy: 0.351\n"
     ]
    }
   ],
   "source": [
    "train_mod(Res18_1A,trainloader,valloader,device,optimizer,criterion,epochs=4,print_every=20)"
   ]
  },
  {
   "cell_type": "code",
   "execution_count": 24,
   "metadata": {},
   "outputs": [
    {
     "name": "stdout",
     "output_type": "stream",
     "text": [
      "[512, 512, 512, 512, 256, 102]\n",
      "<zip object at 0x7f26099e2708>\n"
     ]
    },
    {
     "data": {
      "text/plain": [
       "Sequential(\n",
       "  (fc0): Linear(in_features=512, out_features=512, bias=True)\n",
       "  (relu0): ReLU()\n",
       "  (drop0): Dropout(p=0)\n",
       "  (fc1): Linear(in_features=512, out_features=512, bias=True)\n",
       "  (relu1): ReLU()\n",
       "  (drop1): Dropout(p=0)\n",
       "  (fc2): Linear(in_features=512, out_features=512, bias=True)\n",
       "  (relu2): ReLU()\n",
       "  (drop2): Dropout(p=0)\n",
       "  (fc3): Linear(in_features=512, out_features=256, bias=True)\n",
       "  (relu3): ReLU()\n",
       "  (drop3): Dropout(p=0)\n",
       "  (fc4): Linear(in_features=256, out_features=102, bias=True)\n",
       "  (relu4): ReLU()\n",
       "  (softmax): LogSoftmax()\n",
       ")"
      ]
     },
     "execution_count": 24,
     "metadata": {},
     "output_type": "execute_result"
    }
   ],
   "source": [
    "## MOdel #3\n",
    "Res18_3 = models.resnet18(pretrained=True)\n",
    "\n",
    "#model1 \n",
    "output = 102\n",
    "h_layers = [512, 512, 512, 256]\n",
    "p_drop = 0\n",
    "lr = 0.005\n",
    "\n",
    "add_Resnetclass(Res18_3,output,h_layers,p_drop=p_drop)\n",
    "Res18_3.fc\n"
   ]
  },
  {
   "cell_type": "code",
   "execution_count": 26,
   "metadata": {},
   "outputs": [],
   "source": [
    "criterion = nn.NLLLoss()\n",
    "optimizer = optim.Adam(Res18_3.fc.parameters(), lr=0.005)"
   ]
  },
  {
   "cell_type": "code",
   "execution_count": 27,
   "metadata": {},
   "outputs": [
    {
     "name": "stdout",
     "output_type": "stream",
     "text": [
      "Epoch: 1/4..  Training Loss: 4.599..  Cross_val Loss: 4.500..  Val Accuracy: 0.029\n",
      "Epoch: 1/4..  Training Loss: 4.441..  Cross_val Loss: 4.432..  Val Accuracy: 0.049\n",
      "Epoch: 1/4..  Training Loss: 4.395..  Cross_val Loss: 4.345..  Val Accuracy: 0.060\n",
      "Epoch: 1/4..  Training Loss: 4.265..  Cross_val Loss: 4.235..  Val Accuracy: 0.077\n",
      "Epoch: 1/4..  Training Loss: 4.246..  Cross_val Loss: 4.194..  Val Accuracy: 0.088\n",
      "Epoch: 2/4..  Training Loss: 3.561..  Cross_val Loss: 4.094..  Val Accuracy: 0.123\n",
      "Epoch: 2/4..  Training Loss: 4.056..  Cross_val Loss: 3.990..  Val Accuracy: 0.129\n",
      "Epoch: 2/4..  Training Loss: 3.958..  Cross_val Loss: 3.946..  Val Accuracy: 0.161\n",
      "Epoch: 2/4..  Training Loss: 3.937..  Cross_val Loss: 3.909..  Val Accuracy: 0.162\n",
      "Epoch: 2/4..  Training Loss: 4.017..  Cross_val Loss: 3.965..  Val Accuracy: 0.135\n",
      "Epoch: 3/4..  Training Loss: 2.724..  Cross_val Loss: 3.892..  Val Accuracy: 0.172\n",
      "Epoch: 3/4..  Training Loss: 3.831..  Cross_val Loss: 3.877..  Val Accuracy: 0.162\n",
      "Epoch: 3/4..  Training Loss: 3.795..  Cross_val Loss: 3.813..  Val Accuracy: 0.199\n",
      "Epoch: 3/4..  Training Loss: 3.790..  Cross_val Loss: 3.848..  Val Accuracy: 0.173\n",
      "Epoch: 3/4..  Training Loss: 3.868..  Cross_val Loss: 3.784..  Val Accuracy: 0.202\n",
      "Epoch: 4/4..  Training Loss: 2.035..  Cross_val Loss: 3.753..  Val Accuracy: 0.204\n",
      "Epoch: 4/4..  Training Loss: 3.641..  Cross_val Loss: 3.738..  Val Accuracy: 0.200\n",
      "Epoch: 4/4..  Training Loss: 3.740..  Cross_val Loss: 3.732..  Val Accuracy: 0.221\n",
      "Epoch: 4/4..  Training Loss: 3.720..  Cross_val Loss: 3.720..  Val Accuracy: 0.229\n",
      "Epoch: 4/4..  Training Loss: 3.655..  Cross_val Loss: 3.661..  Val Accuracy: 0.220\n"
     ]
    }
   ],
   "source": [
    "train_mod(Res18_3,trainloader,valloader,device,optimizer,criterion,epochs=4,print_every=20)"
   ]
  },
  {
   "cell_type": "code",
   "execution_count": 29,
   "metadata": {},
   "outputs": [],
   "source": [
    "Res18_3.fc.drop0.p = 0.5\n",
    "Res18_3.fc.drop1.p = 0.5\n",
    "Res18_3.fc.drop2.p = 0.5\n",
    "Res18_3.fc.drop3.p = 0.5"
   ]
  },
  {
   "cell_type": "code",
   "execution_count": 32,
   "metadata": {},
   "outputs": [
    {
     "name": "stdout",
     "output_type": "stream",
     "text": [
      "Epoch: 1/4..  Training Loss: 4.481..  Cross_val Loss: 4.448..  Val Accuracy: 0.064\n",
      "Epoch: 1/4..  Training Loss: 4.524..  Cross_val Loss: 4.451..  Val Accuracy: 0.059\n",
      "Epoch: 2/4..  Training Loss: 1.935..  Cross_val Loss: 4.528..  Val Accuracy: 0.052\n",
      "Epoch: 2/4..  Training Loss: 4.555..  Cross_val Loss: 4.507..  Val Accuracy: 0.049\n",
      "Epoch: 2/4..  Training Loss: 4.538..  Cross_val Loss: 4.492..  Val Accuracy: 0.050\n",
      "Epoch: 3/4..  Training Loss: 3.862..  Cross_val Loss: 4.415..  Val Accuracy: 0.067\n",
      "Epoch: 3/4..  Training Loss: 4.553..  Cross_val Loss: 4.488..  Val Accuracy: 0.056\n",
      "Epoch: 4/4..  Training Loss: 1.241..  Cross_val Loss: 4.478..  Val Accuracy: 0.054\n",
      "Epoch: 4/4..  Training Loss: 4.541..  Cross_val Loss: 4.491..  Val Accuracy: 0.043\n",
      "Epoch: 4/4..  Training Loss: 4.529..  Cross_val Loss: 4.574..  Val Accuracy: 0.061\n"
     ]
    }
   ],
   "source": [
    "train_mod(Res18_3,trainloader,valloader,device,optimizer,criterion,epochs=4,print_every=40)"
   ]
  },
  {
   "cell_type": "code",
   "execution_count": 34,
   "metadata": {},
   "outputs": [
    {
     "name": "stdout",
     "output_type": "stream",
     "text": [
      "[512, 256, 128, 102]\n",
      "<zip object at 0x7f2609938888>\n"
     ]
    },
    {
     "data": {
      "text/plain": [
       "Sequential(\n",
       "  (fc0): Linear(in_features=512, out_features=256, bias=True)\n",
       "  (relu0): ReLU()\n",
       "  (drop0): Dropout(p=0)\n",
       "  (fc1): Linear(in_features=256, out_features=128, bias=True)\n",
       "  (relu1): ReLU()\n",
       "  (drop1): Dropout(p=0)\n",
       "  (fc2): Linear(in_features=128, out_features=102, bias=True)\n",
       "  (relu2): ReLU()\n",
       "  (softmax): LogSoftmax()\n",
       ")"
      ]
     },
     "execution_count": 34,
     "metadata": {},
     "output_type": "execute_result"
    }
   ],
   "source": [
    "## MOdel #4\n",
    "Res18_4 = models.resnet18(pretrained=True)\n",
    "\n",
    "#model1 \n",
    "output = 102\n",
    "h_layers = [256, 128]\n",
    "p_drop = 0\n",
    "lr = 0.005\n",
    "\n",
    "add_Resnetclass(Res18_4,output,h_layers,p_drop=p_drop)\n",
    "Res18_4.fc"
   ]
  },
  {
   "cell_type": "code",
   "execution_count": 35,
   "metadata": {},
   "outputs": [],
   "source": [
    "criterion = nn.NLLLoss()\n",
    "optimizer = optim.Adam(Res18_4.fc.parameters(), lr=0.005)"
   ]
  },
  {
   "cell_type": "code",
   "execution_count": 36,
   "metadata": {},
   "outputs": [
    {
     "name": "stdout",
     "output_type": "stream",
     "text": [
      "Epoch: 1/4..  Training Loss: 4.246..  Cross_val Loss: 3.892..  Val Accuracy: 0.194\n",
      "Epoch: 1/4..  Training Loss: 3.773..  Cross_val Loss: 3.694..  Val Accuracy: 0.249\n",
      "Epoch: 2/4..  Training Loss: 1.509..  Cross_val Loss: 3.552..  Val Accuracy: 0.276\n",
      "Epoch: 2/4..  Training Loss: 3.479..  Cross_val Loss: 3.515..  Val Accuracy: 0.284\n",
      "Epoch: 2/4..  Training Loss: 3.454..  Cross_val Loss: 3.405..  Val Accuracy: 0.298\n",
      "Epoch: 3/4..  Training Loss: 2.842..  Cross_val Loss: 3.394..  Val Accuracy: 0.303\n",
      "Epoch: 3/4..  Training Loss: 3.403..  Cross_val Loss: 3.516..  Val Accuracy: 0.292\n",
      "Epoch: 4/4..  Training Loss: 0.869..  Cross_val Loss: 3.396..  Val Accuracy: 0.305\n",
      "Epoch: 4/4..  Training Loss: 3.280..  Cross_val Loss: 3.390..  Val Accuracy: 0.300\n",
      "Epoch: 4/4..  Training Loss: 3.370..  Cross_val Loss: 3.359..  Val Accuracy: 0.305\n"
     ]
    }
   ],
   "source": [
    "train_mod(Res18_4,trainloader,valloader,device,optimizer,criterion,epochs=4,print_every=40)"
   ]
  },
  {
   "cell_type": "code",
   "execution_count": null,
   "metadata": {},
   "outputs": [],
   "source": [
    "Res18_4.fc."
   ]
  },
  {
   "cell_type": "markdown",
   "metadata": {},
   "source": [
    "## Testing your network\n",
    "\n",
    "It's good practice to test your trained network on test data, images the network has never seen either in training or validation. This will give you a good estimate for the model's performance on completely new images. Run the test images through the network and measure the accuracy, the same way you did validation. You should be able to reach around 70% accuracy on the test set if the model has been trained well."
   ]
  },
  {
   "cell_type": "code",
   "execution_count": null,
   "metadata": {},
   "outputs": [],
   "source": []
  },
  {
   "cell_type": "code",
   "execution_count": null,
   "metadata": {},
   "outputs": [],
   "source": []
  },
  {
   "cell_type": "code",
   "execution_count": null,
   "metadata": {},
   "outputs": [],
   "source": [
    "# TODO: Do validation on the test set"
   ]
  },
  {
   "cell_type": "markdown",
   "metadata": {},
   "source": [
    "## Save the checkpoint\n",
    "\n",
    "Now that your network is trained, save the model so you can load it later for making predictions. You probably want to save other things such as the mapping of classes to indices which you get from one of the image datasets: `image_datasets['train'].class_to_idx`. You can attach this to the model as an attribute which makes inference easier later on.\n",
    "\n",
    "```model.class_to_idx = image_datasets['train'].class_to_idx```\n",
    "\n",
    "Remember that you'll want to completely rebuild the model later so you can use it for inference. Make sure to include any information you need in the checkpoint. If you want to load the model and keep training, you'll want to save the number of epochs as well as the optimizer state, `optimizer.state_dict`. You'll likely want to use this trained model in the next part of the project, so best to save it now."
   ]
  },
  {
   "cell_type": "code",
   "execution_count": null,
   "metadata": {},
   "outputs": [],
   "source": [
    "# TODO: Save the checkpoint "
   ]
  },
  {
   "cell_type": "markdown",
   "metadata": {},
   "source": [
    "## Loading the checkpoint\n",
    "\n",
    "At this point it's good to write a function that can load a checkpoint and rebuild the model. That way you can come back to this project and keep working on it without having to retrain the network."
   ]
  },
  {
   "cell_type": "code",
   "execution_count": null,
   "metadata": {},
   "outputs": [],
   "source": [
    "# TODO: Write a function that loads a checkpoint and rebuilds the model"
   ]
  },
  {
   "cell_type": "markdown",
   "metadata": {},
   "source": [
    "# Inference for classification\n",
    "\n",
    "Now you'll write a function to use a trained network for inference. That is, you'll pass an image into the network and predict the class of the flower in the image. Write a function called `predict` that takes an image and a model, then returns the top $K$ most likely classes along with the probabilities. It should look like \n",
    "\n",
    "```python\n",
    "probs, classes = predict(image_path, model)\n",
    "print(probs)\n",
    "print(classes)\n",
    "> [ 0.01558163  0.01541934  0.01452626  0.01443549  0.01407339]\n",
    "> ['70', '3', '45', '62', '55']\n",
    "```\n",
    "\n",
    "First you'll need to handle processing the input image such that it can be used in your network. \n",
    "\n",
    "## Image Preprocessing\n",
    "\n",
    "You'll want to use `PIL` to load the image ([documentation](https://pillow.readthedocs.io/en/latest/reference/Image.html)). It's best to write a function that preprocesses the image so it can be used as input for the model. This function should process the images in the same manner used for training. \n",
    "\n",
    "First, resize the images where the shortest side is 256 pixels, keeping the aspect ratio. This can be done with the [`thumbnail`](http://pillow.readthedocs.io/en/3.1.x/reference/Image.html#PIL.Image.Image.thumbnail) or [`resize`](http://pillow.readthedocs.io/en/3.1.x/reference/Image.html#PIL.Image.Image.thumbnail) methods. Then you'll need to crop out the center 224x224 portion of the image.\n",
    "\n",
    "Color channels of images are typically encoded as integers 0-255, but the model expected floats 0-1. You'll need to convert the values. It's easiest with a Numpy array, which you can get from a PIL image like so `np_image = np.array(pil_image)`.\n",
    "\n",
    "As before, the network expects the images to be normalized in a specific way. For the means, it's `[0.485, 0.456, 0.406]` and for the standard deviations `[0.229, 0.224, 0.225]`. You'll want to subtract the means from each color channel, then divide by the standard deviation. \n",
    "\n",
    "And finally, PyTorch expects the color channel to be the first dimension but it's the third dimension in the PIL image and Numpy array. You can reorder dimensions using [`ndarray.transpose`](https://docs.scipy.org/doc/numpy-1.13.0/reference/generated/numpy.ndarray.transpose.html). The color channel needs to be first and retain the order of the other two dimensions."
   ]
  },
  {
   "cell_type": "code",
   "execution_count": null,
   "metadata": {},
   "outputs": [],
   "source": [
    "def process_image(image):\n",
    "    ''' Scales, crops, and normalizes a PIL image for a PyTorch model,\n",
    "        returns an Numpy array\n",
    "    '''\n",
    "    \n",
    "    # TODO: Process a PIL image for use in a PyTorch model"
   ]
  },
  {
   "cell_type": "markdown",
   "metadata": {},
   "source": [
    "To check your work, the function below converts a PyTorch tensor and displays it in the notebook. If your `process_image` function works, running the output through this function should return the original image (except for the cropped out portions)."
   ]
  },
  {
   "cell_type": "code",
   "execution_count": null,
   "metadata": {},
   "outputs": [],
   "source": [
    "def imshow(image, ax=None, title=None):\n",
    "    if ax is None:\n",
    "        fig, ax = plt.subplots()\n",
    "    \n",
    "    # PyTorch tensors assume the color channel is the first dimension\n",
    "    # but matplotlib assumes is the third dimension\n",
    "    image = image.transpose((1, 2, 0))\n",
    "    \n",
    "    # Undo preprocessing\n",
    "    mean = np.array([0.485, 0.456, 0.406])\n",
    "    std = np.array([0.229, 0.224, 0.225])\n",
    "    image = std * image + mean\n",
    "    \n",
    "    # Image needs to be clipped between 0 and 1 or it looks like noise when displayed\n",
    "    image = np.clip(image, 0, 1)\n",
    "    \n",
    "    ax.imshow(image)\n",
    "    \n",
    "    return ax"
   ]
  },
  {
   "cell_type": "markdown",
   "metadata": {},
   "source": [
    "## Class Prediction\n",
    "\n",
    "Once you can get images in the correct format, it's time to write a function for making predictions with your model. A common practice is to predict the top 5 or so (usually called top-$K$) most probable classes. You'll want to calculate the class probabilities then find the $K$ largest values.\n",
    "\n",
    "To get the top $K$ largest values in a tensor use [`x.topk(k)`](http://pytorch.org/docs/master/torch.html#torch.topk). This method returns both the highest `k` probabilities and the indices of those probabilities corresponding to the classes. You need to convert from these indices to the actual class labels using `class_to_idx` which hopefully you added to the model or from an `ImageFolder` you used to load the data ([see here](#Save-the-checkpoint)). Make sure to invert the dictionary so you get a mapping from index to class as well.\n",
    "\n",
    "Again, this method should take a path to an image and a model checkpoint, then return the probabilities and classes.\n",
    "\n",
    "```python\n",
    "probs, classes = predict(image_path, model)\n",
    "print(probs)\n",
    "print(classes)\n",
    "> [ 0.01558163  0.01541934  0.01452626  0.01443549  0.01407339]\n",
    "> ['70', '3', '45', '62', '55']\n",
    "```"
   ]
  },
  {
   "cell_type": "code",
   "execution_count": null,
   "metadata": {},
   "outputs": [],
   "source": [
    "def predict(image_path, model, topk=5):\n",
    "    ''' Predict the class (or classes) of an image using a trained deep learning model.\n",
    "    '''\n",
    "    \n",
    "    # TODO: Implement the code to predict the class from an image file"
   ]
  },
  {
   "cell_type": "markdown",
   "metadata": {},
   "source": [
    "## Sanity Checking\n",
    "\n",
    "Now that you can use a trained model for predictions, check to make sure it makes sense. Even if the testing accuracy is high, it's always good to check that there aren't obvious bugs. Use `matplotlib` to plot the probabilities for the top 5 classes as a bar graph, along with the input image. It should look like this:\n",
    "\n",
    "<img src='assets/inference_example.png' width=300px>\n",
    "\n",
    "You can convert from the class integer encoding to actual flower names with the `cat_to_name.json` file (should have been loaded earlier in the notebook). To show a PyTorch tensor as an image, use the `imshow` function defined above."
   ]
  },
  {
   "cell_type": "code",
   "execution_count": null,
   "metadata": {},
   "outputs": [],
   "source": [
    "# TODO: Display an image along with the top 5 classes"
   ]
  },
  {
   "cell_type": "markdown",
   "metadata": {},
   "source": [
    "epochs = 5\n",
    "steps = 0\n",
    "print_every = 10\n",
    "Res18_0 = Res18_0.to(device)\n",
    "\n",
    "for e in range(epochs):\n",
    "    Res18_0.train()\n",
    "    running_loss = 0\n",
    "    \n",
    "    for ii, (images, labels) in enumerate(trainloader):\n",
    "        images = images.to(device)\n",
    "        labels = labels.to(device)\n",
    "        \n",
    "        steps += 1\n",
    "                       \n",
    "        optimizer.zero_grad()\n",
    "        \n",
    "        output = Res18_0.forward(images)\n",
    "        loss = criterion(output, labels)\n",
    "        #loss.requires_grad = True\n",
    "        loss.backward()\n",
    "        optimizer.step()\n",
    "        \n",
    "        running_loss += loss.item()\n",
    "        \n",
    "        if steps % print_every == 0:\n",
    "            # Make sure network is in eval mode for inference\n",
    "            Res18_0.eval()\n",
    "            \n",
    "            # Turn off gradients for validation, saves memory and computations\n",
    "            with torch.no_grad():\n",
    "                test_loss, accuracy = validation(Res18_0, testloader, criterion, device)\n",
    "           \n",
    "            print(\"Epoch: {}/{}.. \".format(e+1, epochs),\n",
    "                  \"Training Loss: {:.3f}.. \".format(running_loss/print_every),\n",
    "                  \"Test Loss: {:.3f}.. \".format(test_loss/len(testloader)),\n",
    "                  \"Test Accuracy: {:.3f}\".format(accuracy/len(testloader)))\n",
    "            \n",
    "            running_loss = 0\n",
    "            \n",
    "            # Make sure training is back on\n",
    "            Res18_0.train()"
   ]
  }
 ],
 "metadata": {
  "kernelspec": {
   "display_name": "Python 3",
   "language": "python",
   "name": "python3"
  },
  "language_info": {
   "codemirror_mode": {
    "name": "ipython",
    "version": 3
   },
   "file_extension": ".py",
   "mimetype": "text/x-python",
   "name": "python",
   "nbconvert_exporter": "python",
   "pygments_lexer": "ipython3",
   "version": "3.6.3"
  }
 },
 "nbformat": 4,
 "nbformat_minor": 2
}
